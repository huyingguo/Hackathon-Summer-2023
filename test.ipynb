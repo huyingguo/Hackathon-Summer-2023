{
 "cells": [
  {
   "cell_type": "code",
   "execution_count": 1,
   "metadata": {
    "ExecuteTime": {
     "end_time": "2023-08-17T04:55:56.046382900Z",
     "start_time": "2023-08-17T04:55:55.103585100Z"
    },
    "collapsed": true
   },
   "outputs": [
    {
     "data": {
      "text/plain": [
       "21954"
      ]
     },
     "execution_count": 1,
     "metadata": {},
     "output_type": "execute_result"
    }
   ],
   "source": [
    "'''\n",
    "Author: Gang Hu\n",
    "Personal Email: huyingguo2007@hotmail.com\n",
    "Work/School Email: ghu3@ur.rochester.edu\n",
    "Date: 2023-08-16 23:54:35\n",
    "LastEditTime: 2023-08-16 23:55:12\n",
    "LastEditors: Gang Hu\n",
    "FilePath: \\Hackathon-Summer-2023\\test.ipynb\n",
    "'''\n",
    "\n",
    "# Read and load the data\n",
    "import numpy as np\n",
    "import pandas as pd\n",
    "import matplotlib.pyplot as plt\n",
    "import seaborn as sns\n",
    "import scanpy as sc\n",
    "import anndata as ad\n",
    "\n",
    "\n",
    "dirpath = 'test_data\\sce.h5ad'\n",
    "\n",
    "# load the data\n",
    "adata = sc.read_h5ad(dirpath)\n",
    "len(adata) # row number\n"
   ]
  },
  {
   "cell_type": "markdown",
   "metadata": {},
   "source": [
    "Tutorial on scanpy: https://scanpy.readthedocs.io/en/stable/"
   ]
  },
  {
   "cell_type": "code",
   "execution_count": 33,
   "metadata": {},
   "outputs": [
    {
     "name": "stdout",
     "output_type": "stream",
     "text": [
      "sce.h5ad\n",
      "sce.rds\n"
     ]
    }
   ],
   "source": [
    "!ls test_data"
   ]
  },
  {
   "cell_type": "code",
   "execution_count": 31,
   "metadata": {},
   "outputs": [
    {
     "name": "stdout",
     "output_type": "stream",
     "text": [
      "Collecting leidenalg\n",
      "  Downloading leidenalg-0.10.1-cp38-abi3-win_amd64.whl (1.6 MB)\n",
      "     ---------------------------------------- 0.0/1.6 MB ? eta -:--:--\n",
      "     -- ------------------------------------- 0.1/1.6 MB 3.3 MB/s eta 0:00:01\n",
      "     ------------ --------------------------- 0.5/1.6 MB 6.0 MB/s eta 0:00:01\n",
      "     ----------------------- ---------------- 0.9/1.6 MB 7.4 MB/s eta 0:00:01\n",
      "     ------------------------------- -------- 1.2/1.6 MB 7.9 MB/s eta 0:00:01\n",
      "     ---------------------------------------- 1.6/1.6 MB 7.1 MB/s eta 0:00:00\n",
      "Collecting igraph<0.11,>=0.10.0\n",
      "  Downloading igraph-0.10.6-cp39-abi3-win_amd64.whl (2.9 MB)\n",
      "     ---------------------------------------- 0.0/2.9 MB ? eta -:--:--\n",
      "     ------ --------------------------------- 0.5/2.9 MB 9.8 MB/s eta 0:00:01\n",
      "     ------------- -------------------------- 1.0/2.9 MB 10.1 MB/s eta 0:00:01\n",
      "     ------------------- -------------------- 1.4/2.9 MB 10.1 MB/s eta 0:00:01\n",
      "     -------------------------- ------------- 1.9/2.9 MB 10.3 MB/s eta 0:00:01\n",
      "     -------------------------------- ------- 2.4/2.9 MB 10.9 MB/s eta 0:00:01\n",
      "     ------------------------------------- -- 2.7/2.9 MB 9.6 MB/s eta 0:00:01\n",
      "     ---------------------------------------  2.9/2.9 MB 9.2 MB/s eta 0:00:01\n",
      "     ---------------------------------------- 2.9/2.9 MB 8.8 MB/s eta 0:00:00\n",
      "Collecting texttable>=1.6.2\n",
      "  Downloading texttable-1.6.7-py2.py3-none-any.whl (10 kB)\n",
      "Installing collected packages: texttable, igraph, leidenalg\n",
      "Successfully installed igraph-0.10.6 leidenalg-0.10.1 texttable-1.6.7\n"
     ]
    },
    {
     "name": "stderr",
     "output_type": "stream",
     "text": [
      "\n",
      "[notice] A new release of pip is available: 23.0 -> 23.2.1\n",
      "[notice] To update, run: python.exe -m pip install --upgrade pip\n"
     ]
    }
   ],
   "source": [
    "!pip install leidenalg"
   ]
  },
  {
   "cell_type": "code",
   "execution_count": 32,
   "metadata": {},
   "outputs": [
    {
     "name": "stdout",
     "output_type": "stream",
     "text": [
      "Collecting louvain\n",
      "  Downloading louvain-0.8.1-cp311-cp311-win_amd64.whl (89 kB)\n",
      "     ---------------------------------------- 0.0/89.5 kB ? eta -:--:--\n",
      "     ---------------------------------------- 89.5/89.5 kB 2.6 MB/s eta 0:00:00\n",
      "Requirement already satisfied: igraph<0.11,>=0.10.0 in d:\\python 3.11.0\\lib\\site-packages (from louvain) (0.10.6)\n",
      "Requirement already satisfied: texttable>=1.6.2 in d:\\python 3.11.0\\lib\\site-packages (from igraph<0.11,>=0.10.0->louvain) (1.6.7)\n",
      "Installing collected packages: louvain\n",
      "Successfully installed louvain-0.8.1\n"
     ]
    },
    {
     "name": "stderr",
     "output_type": "stream",
     "text": [
      "\n",
      "[notice] A new release of pip is available: 23.0 -> 23.2.1\n",
      "[notice] To update, run: python.exe -m pip install --upgrade pip\n"
     ]
    }
   ],
   "source": [
    "!pip install louvain"
   ]
  },
  {
   "cell_type": "code",
   "execution_count": 2,
   "metadata": {
    "ExecuteTime": {
     "end_time": "2023-08-17T04:56:01.975977300Z",
     "start_time": "2023-08-17T04:56:01.941742500Z"
    }
   },
   "outputs": [
    {
     "name": "stdout",
     "output_type": "stream",
     "text": [
      "AnnData object with n_obs × n_vars = 21954 × 25269\n",
      "    uns: 'X_name'\n"
     ]
    }
   ],
   "source": [
    "print(adata)"
   ]
  },
  {
   "cell_type": "markdown",
   "metadata": {},
   "source": [
    "AnnData object with n_obs × n_vars = 21954 × 25269\n",
    "    uns: 'X_name'\n",
    "\n",
    "There are 21954 cells and 25269 gene features in the dataset."
   ]
  },
  {
   "cell_type": "code",
   "execution_count": 3,
   "metadata": {
    "ExecuteTime": {
     "end_time": "2023-08-17T04:56:07.105121800Z",
     "start_time": "2023-08-17T04:56:07.088897100Z"
    }
   },
   "outputs": [
    {
     "data": {
      "text/html": [
       "<div>\n",
       "<style scoped>\n",
       "    .dataframe tbody tr th:only-of-type {\n",
       "        vertical-align: middle;\n",
       "    }\n",
       "\n",
       "    .dataframe tbody tr th {\n",
       "        vertical-align: top;\n",
       "    }\n",
       "\n",
       "    .dataframe thead th {\n",
       "        text-align: right;\n",
       "    }\n",
       "</style>\n",
       "<table border=\"1\" class=\"dataframe\">\n",
       "  <thead>\n",
       "    <tr style=\"text-align: right;\">\n",
       "      <th></th>\n",
       "    </tr>\n",
       "  </thead>\n",
       "  <tbody>\n",
       "    <tr>\n",
       "      <th>A1BG</th>\n",
       "    </tr>\n",
       "    <tr>\n",
       "      <th>A1BG-AS1</th>\n",
       "    </tr>\n",
       "    <tr>\n",
       "      <th>A1CF</th>\n",
       "    </tr>\n",
       "    <tr>\n",
       "      <th>A2M</th>\n",
       "    </tr>\n",
       "    <tr>\n",
       "      <th>A2M-AS1</th>\n",
       "    </tr>\n",
       "    <tr>\n",
       "      <th>...</th>\n",
       "    </tr>\n",
       "    <tr>\n",
       "      <th>hsa-mir-490</th>\n",
       "    </tr>\n",
       "    <tr>\n",
       "      <th>hsa-mir-5195</th>\n",
       "    </tr>\n",
       "    <tr>\n",
       "      <th>hsa-mir-6080</th>\n",
       "    </tr>\n",
       "    <tr>\n",
       "      <th>hsa-mir-8072</th>\n",
       "    </tr>\n",
       "    <tr>\n",
       "      <th>snoU2-30</th>\n",
       "    </tr>\n",
       "  </tbody>\n",
       "</table>\n",
       "<p>25269 rows × 0 columns</p>\n",
       "</div>"
      ],
      "text/plain": [
       "Empty DataFrame\n",
       "Columns: []\n",
       "Index: [A1BG, A1BG-AS1, A1CF, A2M, A2M-AS1, A2ML1, A4GALT, AA415398, AA465934, AA467197, AA474331, AA474408, AA987161, AAAS, AACS, AADAT, AAED1, AAGAB, AAK1, AAMDC, AAMP, AANAT, AAR2, AARD, AARS, AARS2, AARSD1, AASDH, AASDHPPT, AASS, AATF, AATK, AB015752.3, AB041803, ABAT, ABCA1, ABCA10, ABCA12, ABCA2, ABCA3, ABCA5, ABCA6, ABCA7, ABCA8, ABCA9, ABCB1, ABCB10, ABCB4, ABCB5, ABCB6, ABCB7, ABCB8, ABCB9, ABCC1, ABCC10, ABCC11, ABCC2, ABCC3, ABCC4, ABCC5, ABCC6, ABCC8, ABCC9, ABCD1, ABCD2, ABCD3, ABCD4, ABCE1, ABCF1, ABCF2, ABCF3, ABCG1, ABCG2, ABCG4, ABHD1, ABHD10, ABHD11, ABHD12, ABHD12B, ABHD13, ABHD14A, ABHD14B, ABHD15, ABHD16A, ABHD16B, ABHD17A, ABHD17B, ABHD17C, ABHD2, ABHD3, ABHD4, ABHD5, ABHD6, ABHD8, ABI1, ABI2, ABI3, ABI3BP, ABL1, ABL2, ...]\n",
       "\n",
       "[25269 rows x 0 columns]"
      ]
     },
     "execution_count": 3,
     "metadata": {},
     "output_type": "execute_result"
    }
   ],
   "source": [
    "adata.var"
   ]
  },
  {
   "cell_type": "code",
   "execution_count": 4,
   "metadata": {
    "ExecuteTime": {
     "end_time": "2023-08-17T04:56:09.962008300Z",
     "start_time": "2023-08-17T04:56:09.951953Z"
    }
   },
   "outputs": [
    {
     "data": {
      "text/html": [
       "<div>\n",
       "<style scoped>\n",
       "    .dataframe tbody tr th:only-of-type {\n",
       "        vertical-align: middle;\n",
       "    }\n",
       "\n",
       "    .dataframe tbody tr th {\n",
       "        vertical-align: top;\n",
       "    }\n",
       "\n",
       "    .dataframe thead th {\n",
       "        text-align: right;\n",
       "    }\n",
       "</style>\n",
       "<table border=\"1\" class=\"dataframe\">\n",
       "  <thead>\n",
       "    <tr style=\"text-align: right;\">\n",
       "      <th></th>\n",
       "    </tr>\n",
       "  </thead>\n",
       "  <tbody>\n",
       "    <tr>\n",
       "      <th>AGAGCGAAGATCTGCT</th>\n",
       "    </tr>\n",
       "    <tr>\n",
       "      <th>ACATCAGTCTGACCTC</th>\n",
       "    </tr>\n",
       "    <tr>\n",
       "      <th>TTCTCCTGTCCTGCTT</th>\n",
       "    </tr>\n",
       "    <tr>\n",
       "      <th>GAAACTCTCATGTAGC</th>\n",
       "    </tr>\n",
       "    <tr>\n",
       "      <th>CAGTCCTGTCTAGCCG</th>\n",
       "    </tr>\n",
       "    <tr>\n",
       "      <th>...</th>\n",
       "    </tr>\n",
       "    <tr>\n",
       "      <th>TTTATGCTCTTGTACT</th>\n",
       "    </tr>\n",
       "    <tr>\n",
       "      <th>ATAACGCCAAGCTGGA</th>\n",
       "    </tr>\n",
       "    <tr>\n",
       "      <th>ATTACTCAGTGGACGT</th>\n",
       "    </tr>\n",
       "    <tr>\n",
       "      <th>CGTGTCTCAAGCGTAG</th>\n",
       "    </tr>\n",
       "    <tr>\n",
       "      <th>CCGGGATCAATCGGTT</th>\n",
       "    </tr>\n",
       "  </tbody>\n",
       "</table>\n",
       "<p>21954 rows × 0 columns</p>\n",
       "</div>"
      ],
      "text/plain": [
       "Empty DataFrame\n",
       "Columns: []\n",
       "Index: [AGAGCGAAGATCTGCT, ACATCAGTCTGACCTC, TTCTCCTGTCCTGCTT, GAAACTCTCATGTAGC, CAGTCCTGTCTAGCCG, CATGCCTCACACCGCA, AGGCCGTAGGCCCGTT, AAGTCTGAGCGTCTAT, CAGTAACCAGGAACGT, GTCTCGTTCGTACCGG, CCACGGAAGCACACAG, CGCTATCAGTGAAGTT, CGGAGCTCACATTTCT, AGATTGCAGCTGATAA, AGATTGCGTTTGGGCC, AGCGTATTCGACCAGC, GTGTTAGTCGTCGTTC, ACGGGCTCAGGTCTCG, TACTCATAGTACGTTC, CAACCTCGTACGCACC, CGATGTATCTCACATT, GATCGTAGTAAATGTG, CATGACATCTATCGCC, CATATGGCAACTGCGC, ACCGTAAGTCTAGCGC, TGGTTCCAGTCCTCCT, AGCAGCCAGTGCCATT, GGCGTGTTCAGGCAAG, CACAAACAGTGCGATG, ATGGGAGCAGATCGGA, ATCACGATCACTATTC, CTTCTCTAGCCCTAAT, AACTGGTTCGGTTCGG, GACAGAGAGCCCGAAA, ACGATGTAGCGATGAC, CCGTGGACATCTACGA, GGAACTTCATAGGATA, TCGGGACCAAAGAATC, TACACGATCGCTTAGA, ATGTGTGTCCAAAGTC, GCTGCGATCTTCGGTC, GCAATCACAGCTCGAC, GCAGTTACACATGGGA, ATCATCTTCTGCTGCT, GCTGGGTAGACTCGGA, TTCTACACACCGTTGG, CTCGTACCAATGGAGC, CGAGAAGCATGCGCAC, TGAGGGACAGCCTGTG, GGACAGATCCCAAGAT, CATTCGCGTACCAGTT, GTTTCTAAGTCGATAA, CCCATACTCGGTGTTA, ACTTTCAAGATGAGAG, CGCTATCTCCTTTACA, GGGTCTGCAGACTCGC, AAAGATGTCCGCGCAA, ACCCACTGTAAGTGTA, GTCAAGTCAATCCAAC, GGGATGAGTCGAACAG, CTGCGGAGTGTGACGA, TCGTAGAGTAAATACG, TATCTCACACGAGGTA, CGAATGTCAAGGCTCC, CACCTTGCATCACGTA, CACATTTGTATGAAAC, GTCCTCATCCTTGGTC, GGACATTCATTAGCCA, GATCTAGGTCAATACC, TGACAACGTAAGGGCT, TAGTGGTAGGCCCGTT, TGACTAGCACAGGCCT, CCCAATCCAATCGGTT, AGAATAGAGTGACTCT, ACACCAATCCGTCAAA, GTAACGTAGAGTACCG, GCGCGATCATGGAATA, AAACGGGGTGCAACTT, TGAAAGACAAGGTGTG, TGCTGCTAGGGTTTCT, GCTGCGACATGCCTAA, CGTTCTGCAATGGAGC, CCACGGACAAGTAATG, TTATGCTTCTCGGACG, GGAATAATCCATTCTA, TTGAACGCAATTGCTG, TGGCTGGCAGGACGTA, TGGTTCCTCGCCTGAG, GGATGTTCAAGAAGAG, GAACGGATCACAGGCC, CTGCGGATCTTGTACT, TTGACTTGTAACGTTC, TTTACTGGTTGATTGC, AACTCAGGTAGGACAC, AGGCCGTTCACATACG, GGACGTCGTACACCGC, AGCGGTCGTACGACCC, CTCGTCACAGGACGTA, GAGGTGAGTAATCACC, GGGCACTGTCTTTCAT, ...]\n",
       "\n",
       "[21954 rows x 0 columns]"
      ]
     },
     "execution_count": 4,
     "metadata": {},
     "output_type": "execute_result"
    }
   ],
   "source": [
    "adata.obs"
   ]
  },
  {
   "cell_type": "code",
   "execution_count": 5,
   "metadata": {
    "ExecuteTime": {
     "end_time": "2023-08-17T04:56:16.155106200Z",
     "start_time": "2023-08-17T04:56:16.140652500Z"
    }
   },
   "outputs": [
    {
     "data": {
      "text/plain": [
       "<21954x25269 sparse matrix of type '<class 'numpy.float64'>'\n",
       "\twith 11039225 stored elements in Compressed Sparse Column format>"
      ]
     },
     "execution_count": 5,
     "metadata": {},
     "output_type": "execute_result"
    }
   ],
   "source": [
    "adata.X\n"
   ]
  },
  {
   "cell_type": "code",
   "execution_count": 6,
   "metadata": {
    "ExecuteTime": {
     "end_time": "2023-08-17T04:56:18.005512600Z",
     "start_time": "2023-08-17T04:56:17.989973400Z"
    }
   },
   "outputs": [
    {
     "name": "stdout",
     "output_type": "stream",
     "text": [
      "counts\n"
     ]
    }
   ],
   "source": [
    "print(adata.uns['X_name'])\n"
   ]
  },
  {
   "cell_type": "code",
   "execution_count": 7,
   "metadata": {
    "ExecuteTime": {
     "end_time": "2023-08-17T04:56:27.077064600Z",
     "start_time": "2023-08-17T04:56:27.065860700Z"
    }
   },
   "outputs": [
    {
     "name": "stdout",
     "output_type": "stream",
     "text": [
      "dict_keys(['X_name'])\n"
     ]
    }
   ],
   "source": [
    "print(adata.uns.keys())\n"
   ]
  },
  {
   "cell_type": "code",
   "execution_count": 10,
   "metadata": {
    "ExecuteTime": {
     "end_time": "2023-08-17T04:57:06.325891600Z",
     "start_time": "2023-08-17T04:57:06.305612900Z"
    },
    "collapsed": false
   },
   "outputs": [
    {
     "name": "stdout",
     "output_type": "stream",
     "text": [
      "(21954, 25269)\n"
     ]
    }
   ],
   "source": [
    "print(adata.shape)"
   ]
  },
  {
   "cell_type": "code",
   "execution_count": 11,
   "metadata": {},
   "outputs": [
    {
     "name": "stdout",
     "output_type": "stream",
     "text": [
      "None\n"
     ]
    }
   ],
   "source": [
    "print(adata.filename)"
   ]
  },
  {
   "cell_type": "code",
   "execution_count": 42,
   "metadata": {},
   "outputs": [
    {
     "name": "stdout",
     "output_type": "stream",
     "text": [
      "Empty DataFrame\n",
      "Columns: []\n",
      "Index: [A1BG, A1BG-AS1, A1CF, A2M, A2M-AS1, A2ML1, A4GALT, AA415398, AA465934, AA467197, AA474331, AA474408, AA987161, AAAS, AACS, AADAT, AAED1, AAGAB, AAK1, AAMDC]\n"
     ]
    }
   ],
   "source": [
    "print(adata.var[:20])"
   ]
  },
  {
   "cell_type": "code",
   "execution_count": 27,
   "metadata": {},
   "outputs": [
    {
     "name": "stdout",
     "output_type": "stream",
     "text": [
      "                                                   0\n",
      "0    (0, 14)\\t1.0\\n  (0, 16)\\t2.0\\n  (0, 17)\\t2.0...\n",
      "1    (0, 4)\\t1.0\\n  (0, 13)\\t1.0\\n  (0, 16)\\t5.0\\...\n",
      "2    (0, 4)\\t1.0\\n  (0, 13)\\t3.0\\n  (0, 16)\\t6.0\\...\n",
      "3    (0, 13)\\t1.0\\n  (0, 15)\\t1.0\\n  (0, 17)\\t1.0...\n",
      "4    (0, 13)\\t3.0\\n  (0, 15)\\t1.0\\n  (0, 16)\\t3.0...\n"
     ]
    }
   ],
   "source": [
    "df = pd.DataFrame(adata.X)\n",
    "print(df.head())\n"
   ]
  },
  {
   "cell_type": "code",
   "execution_count": 28,
   "metadata": {},
   "outputs": [
    {
     "name": "stdout",
     "output_type": "stream",
     "text": [
      "Empty DataFrame\n",
      "Columns: []\n",
      "Index: [AGAGCGAAGATCTGCT, ACATCAGTCTGACCTC, TTCTCCTGTCCTGCTT, GAAACTCTCATGTAGC, CAGTCCTGTCTAGCCG]\n"
     ]
    }
   ],
   "source": [
    "print(adata.obs.head())\n"
   ]
  },
  {
   "cell_type": "code",
   "execution_count": 29,
   "metadata": {},
   "outputs": [
    {
     "name": "stdout",
     "output_type": "stream",
     "text": [
      "Empty DataFrame\n",
      "Columns: []\n",
      "Index: [A1BG, A1BG-AS1, A1CF, A2M, A2M-AS1]\n"
     ]
    }
   ],
   "source": [
    "print(adata.var.head())\n"
   ]
  },
  {
   "cell_type": "code",
   "execution_count": null,
   "metadata": {},
   "outputs": [],
   "source": []
  }
 ],
 "metadata": {
  "kernelspec": {
   "display_name": "Python 3",
   "language": "python",
   "name": "python3"
  },
  "language_info": {
   "codemirror_mode": {
    "name": "ipython",
    "version": 3
   },
   "file_extension": ".py",
   "mimetype": "text/x-python",
   "name": "python",
   "nbconvert_exporter": "python",
   "pygments_lexer": "ipython3",
   "version": "3.11.0"
  }
 },
 "nbformat": 4,
 "nbformat_minor": 0
}
