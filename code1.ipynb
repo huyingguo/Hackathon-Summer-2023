{
 "cells": [
  {
   "cell_type": "code",
   "execution_count": 107,
   "metadata": {
    "collapsed": true,
    "pycharm": {
     "name": "#%%\n"
    }
   },
   "outputs": [
    {
     "name": "stdout",
     "output_type": "stream",
     "text": [
      "['D:\\\\Program Files\\\\JetBrains\\\\PyCharm 2022.1.4\\\\plugins\\\\python\\\\helpers-pro\\\\jupyter_debug', 'D:\\\\Program Files\\\\JetBrains\\\\PyCharm 2022.1.4\\\\plugins\\\\python\\\\helpers\\\\pydev', 'D:\\\\Hackathon-Summer-2023', 'D:\\\\Hackathon-Summer-2023', 'C:\\\\Users\\\\jibi\\\\AppData\\\\Local\\\\Programs\\\\Python\\\\Python310\\\\python310.zip', 'C:\\\\Users\\\\jibi\\\\AppData\\\\Local\\\\Programs\\\\Python\\\\Python310\\\\DLLs', 'C:\\\\Users\\\\jibi\\\\AppData\\\\Local\\\\Programs\\\\Python\\\\Python310\\\\lib', 'C:\\\\Users\\\\jibi\\\\AppData\\\\Local\\\\Programs\\\\Python\\\\Python310', 'D:\\\\JIBI\\\\pycharm笔记相关\\\\venv', '', 'D:\\\\JIBI\\\\pycharm笔记相关\\\\venv\\\\lib\\\\site-packages', 'D:\\\\JIBI\\\\pycharm笔记相关\\\\venv\\\\lib\\\\site-packages\\\\win32', 'D:\\\\JIBI\\\\pycharm笔记相关\\\\venv\\\\lib\\\\site-packages\\\\win32\\\\lib', 'D:\\\\JIBI\\\\pycharm笔记相关\\\\venv\\\\lib\\\\site-packages\\\\Pythonwin']\n"
     ]
    }
   ],
   "source": [
    "import sys\n",
    "print(sys.path)"
   ]
  },
  {
   "cell_type": "code",
   "execution_count": 108,
   "outputs": [
    {
     "name": "stdout",
     "output_type": "stream",
     "text": [
      "scanpy_test\n"
     ]
    }
   ],
   "source": [
    "from IPython.display import display\n",
    "import anndata\n",
    "import pandas as pd\n",
    "import numpy as np\n",
    "import my_fuc as mf\n",
    "import importlib\n",
    "importlib.reload(mf)\n",
    "import scanpy as sc\n",
    "print('scanpy_test')"
   ],
   "metadata": {
    "collapsed": false,
    "pycharm": {
     "name": "#%%\n"
    }
   }
  },
  {
   "cell_type": "code",
   "execution_count": 109,
   "outputs": [
    {
     "data": {
      "text/plain": "AnnData object with n_obs × n_vars = 21954 × 25269\n    uns: 'X_name'"
     },
     "metadata": {},
     "output_type": "display_data"
    },
    {
     "data": {
      "text/plain": "anndata._core.anndata.AnnData"
     },
     "metadata": {},
     "output_type": "display_data"
    }
   ],
   "source": [
    "test_path = 'test_data/sce.h5ad'\n",
    "test_data = anndata.read_h5ad(test_path)#等价于scanpy.read_h5ad(..)\n",
    "display(test_data)\n",
    "display(type(test_data))"
   ],
   "metadata": {
    "collapsed": false,
    "pycharm": {
     "name": "#%%\n"
    }
   }
  },
  {
   "cell_type": "code",
   "execution_count": 110,
   "outputs": [
    {
     "name": "stdout",
     "output_type": "stream",
     "text": [
      "Empty DataFrame\n",
      "Columns: []\n",
      "Index: [AGAGCGAAGATCTGCT, ACATCAGTCTGACCTC, TTCTCCTGTCCTGCTT, GAAACTCTCATGTAGC, CAGTCCTGTCTAGCCG, CATGCCTCACACCGCA, AGGCCGTAGGCCCGTT, AAGTCTGAGCGTCTAT, CAGTAACCAGGAACGT, GTCTCGTTCGTACCGG, CCACGGAAGCACACAG, CGCTATCAGTGAAGTT, CGGAGCTCACATTTCT, AGATTGCAGCTGATAA, AGATTGCGTTTGGGCC, AGCGTATTCGACCAGC, GTGTTAGTCGTCGTTC, ACGGGCTCAGGTCTCG, TACTCATAGTACGTTC, CAACCTCGTACGCACC, CGATGTATCTCACATT, GATCGTAGTAAATGTG, CATGACATCTATCGCC, CATATGGCAACTGCGC, ACCGTAAGTCTAGCGC, TGGTTCCAGTCCTCCT, AGCAGCCAGTGCCATT, GGCGTGTTCAGGCAAG, CACAAACAGTGCGATG, ATGGGAGCAGATCGGA, ATCACGATCACTATTC, CTTCTCTAGCCCTAAT, AACTGGTTCGGTTCGG, GACAGAGAGCCCGAAA, ACGATGTAGCGATGAC, CCGTGGACATCTACGA, GGAACTTCATAGGATA, TCGGGACCAAAGAATC, TACACGATCGCTTAGA, ATGTGTGTCCAAAGTC, GCTGCGATCTTCGGTC, GCAATCACAGCTCGAC, GCAGTTACACATGGGA, ATCATCTTCTGCTGCT, GCTGGGTAGACTCGGA, TTCTACACACCGTTGG, CTCGTACCAATGGAGC, CGAGAAGCATGCGCAC, TGAGGGACAGCCTGTG, GGACAGATCCCAAGAT, CATTCGCGTACCAGTT, GTTTCTAAGTCGATAA, CCCATACTCGGTGTTA, ACTTTCAAGATGAGAG, CGCTATCTCCTTTACA, GGGTCTGCAGACTCGC, AAAGATGTCCGCGCAA, ACCCACTGTAAGTGTA, GTCAAGTCAATCCAAC, GGGATGAGTCGAACAG, CTGCGGAGTGTGACGA, TCGTAGAGTAAATACG, TATCTCACACGAGGTA, CGAATGTCAAGGCTCC, CACCTTGCATCACGTA, CACATTTGTATGAAAC, GTCCTCATCCTTGGTC, GGACATTCATTAGCCA, GATCTAGGTCAATACC, TGACAACGTAAGGGCT, TAGTGGTAGGCCCGTT, TGACTAGCACAGGCCT, CCCAATCCAATCGGTT, AGAATAGAGTGACTCT, ACACCAATCCGTCAAA, GTAACGTAGAGTACCG, GCGCGATCATGGAATA, AAACGGGGTGCAACTT, TGAAAGACAAGGTGTG, TGCTGCTAGGGTTTCT, GCTGCGACATGCCTAA, CGTTCTGCAATGGAGC, CCACGGACAAGTAATG, TTATGCTTCTCGGACG, GGAATAATCCATTCTA, TTGAACGCAATTGCTG, TGGCTGGCAGGACGTA, TGGTTCCTCGCCTGAG, GGATGTTCAAGAAGAG, GAACGGATCACAGGCC, CTGCGGATCTTGTACT, TTGACTTGTAACGTTC, TTTACTGGTTGATTGC, AACTCAGGTAGGACAC, AGGCCGTTCACATACG, GGACGTCGTACACCGC, AGCGGTCGTACGACCC, CTCGTCACAGGACGTA, GAGGTGAGTAATCACC, GGGCACTGTCTTTCAT, ...]\n",
      "\n",
      "[21954 rows x 0 columns]\n",
      "<class 'pandas.core.frame.DataFrame'>\n",
      "Empty DataFrame\n",
      "Columns: []\n",
      "Index: [A1BG, A1BG-AS1, A1CF, A2M, A2M-AS1, A2ML1, A4GALT, AA415398, AA465934, AA467197, AA474331, AA474408, AA987161, AAAS, AACS, AADAT, AAED1, AAGAB, AAK1, AAMDC, AAMP, AANAT, AAR2, AARD, AARS, AARS2, AARSD1, AASDH, AASDHPPT, AASS, AATF, AATK, AB015752.3, AB041803, ABAT, ABCA1, ABCA10, ABCA12, ABCA2, ABCA3, ABCA5, ABCA6, ABCA7, ABCA8, ABCA9, ABCB1, ABCB10, ABCB4, ABCB5, ABCB6, ABCB7, ABCB8, ABCB9, ABCC1, ABCC10, ABCC11, ABCC2, ABCC3, ABCC4, ABCC5, ABCC6, ABCC8, ABCC9, ABCD1, ABCD2, ABCD3, ABCD4, ABCE1, ABCF1, ABCF2, ABCF3, ABCG1, ABCG2, ABCG4, ABHD1, ABHD10, ABHD11, ABHD12, ABHD12B, ABHD13, ABHD14A, ABHD14B, ABHD15, ABHD16A, ABHD16B, ABHD17A, ABHD17B, ABHD17C, ABHD2, ABHD3, ABHD4, ABHD5, ABHD6, ABHD8, ABI1, ABI2, ABI3, ABI3BP, ABL1, ABL2, ...]\n",
      "\n",
      "[25269 rows x 0 columns]\n",
      "<class 'pandas.core.frame.DataFrame'>\n",
      "  (15, 0)\t1.0\n",
      "  (141, 0)\t1.0\n",
      "  (193, 0)\t1.0\n",
      "  (271, 0)\t1.0\n",
      "  (283, 0)\t1.0\n",
      "  (295, 0)\t1.0\n",
      "  (371, 0)\t1.0\n",
      "  (373, 0)\t1.0\n",
      "  (377, 0)\t1.0\n",
      "  (526, 0)\t1.0\n",
      "  (575, 0)\t1.0\n",
      "  (610, 0)\t1.0\n",
      "  (674, 0)\t1.0\n",
      "  (1209, 0)\t1.0\n",
      "  (2382, 0)\t1.0\n",
      "  (2593, 0)\t1.0\n",
      "  (2771, 0)\t1.0\n",
      "  (3240, 0)\t1.0\n",
      "  (3456, 0)\t1.0\n",
      "  (4136, 0)\t1.0\n",
      "  (5754, 0)\t1.0\n",
      "  (6022, 0)\t1.0\n",
      "  (6755, 0)\t1.0\n",
      "  (7180, 0)\t1.0\n",
      "  (7690, 0)\t1.0\n",
      "  :\t:\n",
      "  (16151, 25267)\t1.0\n",
      "  (16391, 25267)\t1.0\n",
      "  (16610, 25267)\t1.0\n",
      "  (16652, 25267)\t1.0\n",
      "  (16818, 25267)\t1.0\n",
      "  (17281, 25267)\t1.0\n",
      "  (17374, 25267)\t1.0\n",
      "  (17527, 25267)\t1.0\n",
      "  (17605, 25267)\t1.0\n",
      "  (17658, 25267)\t1.0\n",
      "  (19457, 25267)\t1.0\n",
      "  (21346, 25267)\t1.0\n",
      "  (26, 25268)\t1.0\n",
      "  (136, 25268)\t1.0\n",
      "  (1301, 25268)\t1.0\n",
      "  (1302, 25268)\t1.0\n",
      "  (1912, 25268)\t1.0\n",
      "  (2019, 25268)\t1.0\n",
      "  (2812, 25268)\t1.0\n",
      "  (3296, 25268)\t1.0\n",
      "  (4584, 25268)\t1.0\n",
      "  (5063, 25268)\t1.0\n",
      "  (7637, 25268)\t1.0\n",
      "  (13261, 25268)\t1.0\n",
      "  (14845, 25268)\t1.0\n",
      "<class 'scipy.sparse._csc.csc_matrix'>\n",
      "(21954, 25269)\n"
     ]
    }
   ],
   "source": [
    "print(test_data.obs)#查看观察元数据\n",
    "print(type(test_data.obs))#dataframe,空列，只有行索引有内容\n",
    "\n",
    "print(test_data.var)# 查看变量元数据\n",
    "print(type(test_data.var))\n",
    "\n",
    "print(test_data.X)# 查看数据拒阵，但只提供非零教据相当于是非0数据的索引表内容:(16151，25267) 1,前者为元组，16151行的25267列的内容非零(为1)\n",
    "print(type(test_data.X))#<class 'scipy.sparse._csc.csc_matrix'>\n",
    "print(test_data.X.shape)#(21954, 25269)原形状\n",
    "# print(test_data.uns)# uns属性是未排序的元数据字典，其中可能包含与数据相关的其他信息{'X_name': 'counts'}\n",
    "# print(test_data.uns['X_name'])#uns属性中X_name键对应的值为counts  counts"
   ],
   "metadata": {
    "collapsed": false,
    "pycharm": {
     "name": "#%%\n"
    }
   }
  },
  {
   "cell_type": "markdown",
   "source": [
    "获得原始矩阵"
   ],
   "metadata": {
    "collapsed": false,
    "pycharm": {
     "name": "#%% md\n"
    }
   }
  },
  {
   "cell_type": "code",
   "execution_count": 111,
   "outputs": [
    {
     "data": {
      "text/plain": "array([[0., 0., 0., ..., 0., 2., 0.],\n       [0., 0., 0., ..., 0., 1., 0.],\n       [0., 0., 0., ..., 0., 1., 0.],\n       ...,\n       [0., 0., 0., ..., 0., 0., 0.],\n       [0., 0., 0., ..., 0., 0., 0.],\n       [0., 0., 0., ..., 0., 0., 0.]])"
     },
     "metadata": {},
     "output_type": "display_data"
    },
    {
     "data": {
      "text/plain": "(21954, 25269)"
     },
     "metadata": {},
     "output_type": "display_data"
    },
    {
     "data": {
      "text/plain": "2"
     },
     "metadata": {},
     "output_type": "display_data"
    },
    {
     "name": "stdout",
     "output_type": "stream",
     "text": [
      "大于等于1的单元格个数: 11039225\n",
      "CPU times: total: 7 s\n",
      "Wall time: 10.6 s\n"
     ]
    }
   ],
   "source": [
    "%%time\n",
    "dense_matrix = test_data.X.toarray()#非零稀疏索引转为二维数组\n",
    "display(dense_matrix)\n",
    "display(dense_matrix.shape)\n",
    "display(dense_matrix.ndim)\n",
    "count_greater_than_1 = np.sum(dense_matrix >= 1.0)\n",
    "print(\"大于等于1的单元格个数:\", count_greater_than_1)"
   ],
   "metadata": {
    "collapsed": false,
    "pycharm": {
     "name": "#%%\n"
    }
   }
  },
  {
   "cell_type": "markdown",
   "source": [
    "二维数组→df"
   ],
   "metadata": {
    "collapsed": false,
    "pycharm": {
     "name": "#%% md\n"
    }
   }
  },
  {
   "cell_type": "code",
   "execution_count": null,
   "outputs": [
    {
     "data": {
      "text/plain": "                  A1BG  A1BG-AS1  A1CF  A2M  A2M-AS1  A2ML1  A4GALT  AA415398  \\\nAGAGCGAAGATCTGCT   0.0       0.0   0.0  0.0      0.0    0.0     0.0       0.0   \nACATCAGTCTGACCTC   0.0       0.0   0.0  0.0      1.0    0.0     0.0       0.0   \nTTCTCCTGTCCTGCTT   0.0       0.0   0.0  0.0      1.0    0.0     0.0       0.0   \nGAAACTCTCATGTAGC   0.0       0.0   0.0  0.0      0.0    0.0     0.0       0.0   \nCAGTCCTGTCTAGCCG   0.0       0.0   0.0  0.0      0.0    0.0     0.0       0.0   \n...                ...       ...   ...  ...      ...    ...     ...       ...   \nTTTATGCTCTTGTACT   0.0       0.0   0.0  0.0      0.0    0.0     0.0       0.0   \nATAACGCCAAGCTGGA   0.0       0.0   0.0  0.0      0.0    0.0     0.0       0.0   \nATTACTCAGTGGACGT   0.0       0.0   0.0  0.0      0.0    0.0     0.0       0.0   \nCGTGTCTCAAGCGTAG   0.0       0.0   0.0  0.0      0.0    0.0     0.0       0.0   \nCCGGGATCAATCGGTT   0.0       0.0   0.0  0.0      0.0    0.0     0.0       0.0   \n\n                  AA465934  AA467197  ...  hsa-mir-3181  hsa-mir-335  \\\nAGAGCGAAGATCTGCT       0.0       0.0  ...           0.0          0.0   \nACATCAGTCTGACCTC       0.0       0.0  ...           0.0          0.0   \nTTCTCCTGTCCTGCTT       0.0       0.0  ...           0.0          0.0   \nGAAACTCTCATGTAGC       0.0       0.0  ...           0.0          0.0   \nCAGTCCTGTCTAGCCG       0.0       0.0  ...           0.0          0.0   \n...                    ...       ...  ...           ...          ...   \nTTTATGCTCTTGTACT       0.0       0.0  ...           0.0          0.0   \nATAACGCCAAGCTGGA       0.0       0.0  ...           0.0          0.0   \nATTACTCAGTGGACGT       0.0       0.0  ...           0.0          0.0   \nCGTGTCTCAAGCGTAG       0.0       0.0  ...           0.0          0.0   \nCCGGGATCAATCGGTT       0.0       0.0  ...           0.0          0.0   \n\n                  hsa-mir-4259  hsa-mir-4537  hsa-mir-4538  hsa-mir-490  \\\nAGAGCGAAGATCTGCT           0.0           0.0           0.0          0.0   \nACATCAGTCTGACCTC           0.0           0.0           0.0          0.0   \nTTCTCCTGTCCTGCTT           0.0           0.0           0.0          0.0   \nGAAACTCTCATGTAGC           0.0           0.0           0.0          0.0   \nCAGTCCTGTCTAGCCG           0.0           0.0           0.0          0.0   \n...                        ...           ...           ...          ...   \nTTTATGCTCTTGTACT           0.0           0.0           0.0          0.0   \nATAACGCCAAGCTGGA           0.0           0.0           0.0          0.0   \nATTACTCAGTGGACGT           0.0           0.0           0.0          0.0   \nCGTGTCTCAAGCGTAG           0.0           0.0           0.0          0.0   \nCCGGGATCAATCGGTT           0.0           0.0           0.0          0.0   \n\n                  hsa-mir-5195  hsa-mir-6080  hsa-mir-8072  snoU2-30  \nAGAGCGAAGATCTGCT           0.0           0.0           2.0       0.0  \nACATCAGTCTGACCTC           0.0           0.0           1.0       0.0  \nTTCTCCTGTCCTGCTT           0.0           0.0           1.0       0.0  \nGAAACTCTCATGTAGC           0.0           0.0           2.0       0.0  \nCAGTCCTGTCTAGCCG           0.0           0.0           0.0       0.0  \n...                        ...           ...           ...       ...  \nTTTATGCTCTTGTACT           0.0           0.0           0.0       0.0  \nATAACGCCAAGCTGGA           0.0           0.0           0.0       0.0  \nATTACTCAGTGGACGT           0.0           0.0           0.0       0.0  \nCGTGTCTCAAGCGTAG           0.0           0.0           0.0       0.0  \nCCGGGATCAATCGGTT           0.0           0.0           0.0       0.0  \n\n[21954 rows x 25269 columns]",
      "text/html": "<div>\n<style scoped>\n    .dataframe tbody tr th:only-of-type {\n        vertical-align: middle;\n    }\n\n    .dataframe tbody tr th {\n        vertical-align: top;\n    }\n\n    .dataframe thead th {\n        text-align: right;\n    }\n</style>\n<table border=\"1\" class=\"dataframe\">\n  <thead>\n    <tr style=\"text-align: right;\">\n      <th></th>\n      <th>A1BG</th>\n      <th>A1BG-AS1</th>\n      <th>A1CF</th>\n      <th>A2M</th>\n      <th>A2M-AS1</th>\n      <th>A2ML1</th>\n      <th>A4GALT</th>\n      <th>AA415398</th>\n      <th>AA465934</th>\n      <th>AA467197</th>\n      <th>...</th>\n      <th>hsa-mir-3181</th>\n      <th>hsa-mir-335</th>\n      <th>hsa-mir-4259</th>\n      <th>hsa-mir-4537</th>\n      <th>hsa-mir-4538</th>\n      <th>hsa-mir-490</th>\n      <th>hsa-mir-5195</th>\n      <th>hsa-mir-6080</th>\n      <th>hsa-mir-8072</th>\n      <th>snoU2-30</th>\n    </tr>\n  </thead>\n  <tbody>\n    <tr>\n      <th>AGAGCGAAGATCTGCT</th>\n      <td>0.0</td>\n      <td>0.0</td>\n      <td>0.0</td>\n      <td>0.0</td>\n      <td>0.0</td>\n      <td>0.0</td>\n      <td>0.0</td>\n      <td>0.0</td>\n      <td>0.0</td>\n      <td>0.0</td>\n      <td>...</td>\n      <td>0.0</td>\n      <td>0.0</td>\n      <td>0.0</td>\n      <td>0.0</td>\n      <td>0.0</td>\n      <td>0.0</td>\n      <td>0.0</td>\n      <td>0.0</td>\n      <td>2.0</td>\n      <td>0.0</td>\n    </tr>\n    <tr>\n      <th>ACATCAGTCTGACCTC</th>\n      <td>0.0</td>\n      <td>0.0</td>\n      <td>0.0</td>\n      <td>0.0</td>\n      <td>1.0</td>\n      <td>0.0</td>\n      <td>0.0</td>\n      <td>0.0</td>\n      <td>0.0</td>\n      <td>0.0</td>\n      <td>...</td>\n      <td>0.0</td>\n      <td>0.0</td>\n      <td>0.0</td>\n      <td>0.0</td>\n      <td>0.0</td>\n      <td>0.0</td>\n      <td>0.0</td>\n      <td>0.0</td>\n      <td>1.0</td>\n      <td>0.0</td>\n    </tr>\n    <tr>\n      <th>TTCTCCTGTCCTGCTT</th>\n      <td>0.0</td>\n      <td>0.0</td>\n      <td>0.0</td>\n      <td>0.0</td>\n      <td>1.0</td>\n      <td>0.0</td>\n      <td>0.0</td>\n      <td>0.0</td>\n      <td>0.0</td>\n      <td>0.0</td>\n      <td>...</td>\n      <td>0.0</td>\n      <td>0.0</td>\n      <td>0.0</td>\n      <td>0.0</td>\n      <td>0.0</td>\n      <td>0.0</td>\n      <td>0.0</td>\n      <td>0.0</td>\n      <td>1.0</td>\n      <td>0.0</td>\n    </tr>\n    <tr>\n      <th>GAAACTCTCATGTAGC</th>\n      <td>0.0</td>\n      <td>0.0</td>\n      <td>0.0</td>\n      <td>0.0</td>\n      <td>0.0</td>\n      <td>0.0</td>\n      <td>0.0</td>\n      <td>0.0</td>\n      <td>0.0</td>\n      <td>0.0</td>\n      <td>...</td>\n      <td>0.0</td>\n      <td>0.0</td>\n      <td>0.0</td>\n      <td>0.0</td>\n      <td>0.0</td>\n      <td>0.0</td>\n      <td>0.0</td>\n      <td>0.0</td>\n      <td>2.0</td>\n      <td>0.0</td>\n    </tr>\n    <tr>\n      <th>CAGTCCTGTCTAGCCG</th>\n      <td>0.0</td>\n      <td>0.0</td>\n      <td>0.0</td>\n      <td>0.0</td>\n      <td>0.0</td>\n      <td>0.0</td>\n      <td>0.0</td>\n      <td>0.0</td>\n      <td>0.0</td>\n      <td>0.0</td>\n      <td>...</td>\n      <td>0.0</td>\n      <td>0.0</td>\n      <td>0.0</td>\n      <td>0.0</td>\n      <td>0.0</td>\n      <td>0.0</td>\n      <td>0.0</td>\n      <td>0.0</td>\n      <td>0.0</td>\n      <td>0.0</td>\n    </tr>\n    <tr>\n      <th>...</th>\n      <td>...</td>\n      <td>...</td>\n      <td>...</td>\n      <td>...</td>\n      <td>...</td>\n      <td>...</td>\n      <td>...</td>\n      <td>...</td>\n      <td>...</td>\n      <td>...</td>\n      <td>...</td>\n      <td>...</td>\n      <td>...</td>\n      <td>...</td>\n      <td>...</td>\n      <td>...</td>\n      <td>...</td>\n      <td>...</td>\n      <td>...</td>\n      <td>...</td>\n      <td>...</td>\n    </tr>\n    <tr>\n      <th>TTTATGCTCTTGTACT</th>\n      <td>0.0</td>\n      <td>0.0</td>\n      <td>0.0</td>\n      <td>0.0</td>\n      <td>0.0</td>\n      <td>0.0</td>\n      <td>0.0</td>\n      <td>0.0</td>\n      <td>0.0</td>\n      <td>0.0</td>\n      <td>...</td>\n      <td>0.0</td>\n      <td>0.0</td>\n      <td>0.0</td>\n      <td>0.0</td>\n      <td>0.0</td>\n      <td>0.0</td>\n      <td>0.0</td>\n      <td>0.0</td>\n      <td>0.0</td>\n      <td>0.0</td>\n    </tr>\n    <tr>\n      <th>ATAACGCCAAGCTGGA</th>\n      <td>0.0</td>\n      <td>0.0</td>\n      <td>0.0</td>\n      <td>0.0</td>\n      <td>0.0</td>\n      <td>0.0</td>\n      <td>0.0</td>\n      <td>0.0</td>\n      <td>0.0</td>\n      <td>0.0</td>\n      <td>...</td>\n      <td>0.0</td>\n      <td>0.0</td>\n      <td>0.0</td>\n      <td>0.0</td>\n      <td>0.0</td>\n      <td>0.0</td>\n      <td>0.0</td>\n      <td>0.0</td>\n      <td>0.0</td>\n      <td>0.0</td>\n    </tr>\n    <tr>\n      <th>ATTACTCAGTGGACGT</th>\n      <td>0.0</td>\n      <td>0.0</td>\n      <td>0.0</td>\n      <td>0.0</td>\n      <td>0.0</td>\n      <td>0.0</td>\n      <td>0.0</td>\n      <td>0.0</td>\n      <td>0.0</td>\n      <td>0.0</td>\n      <td>...</td>\n      <td>0.0</td>\n      <td>0.0</td>\n      <td>0.0</td>\n      <td>0.0</td>\n      <td>0.0</td>\n      <td>0.0</td>\n      <td>0.0</td>\n      <td>0.0</td>\n      <td>0.0</td>\n      <td>0.0</td>\n    </tr>\n    <tr>\n      <th>CGTGTCTCAAGCGTAG</th>\n      <td>0.0</td>\n      <td>0.0</td>\n      <td>0.0</td>\n      <td>0.0</td>\n      <td>0.0</td>\n      <td>0.0</td>\n      <td>0.0</td>\n      <td>0.0</td>\n      <td>0.0</td>\n      <td>0.0</td>\n      <td>...</td>\n      <td>0.0</td>\n      <td>0.0</td>\n      <td>0.0</td>\n      <td>0.0</td>\n      <td>0.0</td>\n      <td>0.0</td>\n      <td>0.0</td>\n      <td>0.0</td>\n      <td>0.0</td>\n      <td>0.0</td>\n    </tr>\n    <tr>\n      <th>CCGGGATCAATCGGTT</th>\n      <td>0.0</td>\n      <td>0.0</td>\n      <td>0.0</td>\n      <td>0.0</td>\n      <td>0.0</td>\n      <td>0.0</td>\n      <td>0.0</td>\n      <td>0.0</td>\n      <td>0.0</td>\n      <td>0.0</td>\n      <td>...</td>\n      <td>0.0</td>\n      <td>0.0</td>\n      <td>0.0</td>\n      <td>0.0</td>\n      <td>0.0</td>\n      <td>0.0</td>\n      <td>0.0</td>\n      <td>0.0</td>\n      <td>0.0</td>\n      <td>0.0</td>\n    </tr>\n  </tbody>\n</table>\n<p>21954 rows × 25269 columns</p>\n</div>"
     },
     "metadata": {},
     "output_type": "display_data"
    }
   ],
   "source": [
    "%%time\n",
    "dense_matrix_df = pd.DataFrame(dense_matrix, index=test_data.obs.index, columns=test_data.var.index)\n",
    "display(dense_matrix_df)\n",
    "# 使用条件筛选和np.sum()统计大于等于1的单元格个数#11039225\n",
    "count_greater_than_1_2 = (dense_matrix_df >= 1).sum().sum()\n",
    "print(\"大于等于1的单元格个数:\", count_greater_than_1_2)#验证非零个数\n",
    "df_test = dense_matrix_df.copy()#备份，准备运算\n",
    "print(len(set(df_test.index.tolist())))#看总体数据UMIs是否重复→ 无重复\n",
    "print(len(set(df_test.columns.tolist())))#看总体数据genes是否重复→ 无重复\n",
    "print(df_test.max().max())\n",
    "print(df_test.min().min())"
   ],
   "metadata": {
    "collapsed": false,
    "pycharm": {
     "name": "#%%\n",
     "is_executing": true
    }
   }
  },
  {
   "cell_type": "markdown",
   "source": [
    "读取训练集数据"
   ],
   "metadata": {
    "collapsed": false,
    "pycharm": {
     "name": "#%% md\n"
    }
   }
  },
  {
   "cell_type": "code",
   "execution_count": null,
   "outputs": [],
   "source": [
    "train_data = pd.read_csv('train/training.csv',header = None, names = ['UMIs','result'])\n",
    "df_train = train_data.copy()#备份\n",
    "display(df_train)#y_train\n",
    "count_nonzero = (df_train['result'] != 0).sum()\n",
    "print(count_nonzero)\n",
    "#print(len(set(df_train['UMIs'])))"
   ],
   "metadata": {
    "collapsed": false,
    "pycharm": {
     "name": "#%%\n",
     "is_executing": true
    }
   }
  },
  {
   "cell_type": "markdown",
   "source": [
    "看下training 的UMIs是否存在于df_test当中"
   ],
   "metadata": {
    "collapsed": false,
    "pycharm": {
     "name": "#%% md\n"
    }
   }
  },
  {
   "cell_type": "code",
   "execution_count": null,
   "outputs": [],
   "source": [
    "display(df_test.loc[list(df_train['UMIs'])])\n",
    "df_train2 = df_test.loc[list(df_train['UMIs'])].copy()#X_train\n",
    "#df_train2.to_csv('processing/X_train.csv',encoding = 'utf-8')"
   ],
   "metadata": {
    "collapsed": false,
    "pycharm": {
     "name": "#%%\n",
     "is_executing": true
    }
   }
  },
  {
   "cell_type": "code",
   "execution_count": null,
   "outputs": [],
   "source": [
    "importlib.reload(mf)\n",
    "row_counts = df_train2.apply(lambda row: (row >= 1).sum(), axis=1)\n",
    "# 打印每一行中大于等于1的数的数量\n",
    "print(row_counts)\n",
    "print(type(row_counts))\n",
    "df_row_counts = mf.series_to_df(row_counts,'count')\n",
    "display(df_row_counts)"
   ],
   "metadata": {
    "collapsed": false,
    "pycharm": {
     "name": "#%%\n",
     "is_executing": true
    }
   }
  },
  {
   "cell_type": "code",
   "execution_count": null,
   "outputs": [],
   "source": [
    "display(df_row_counts[df_row_counts['count']>=1])"
   ],
   "metadata": {
    "collapsed": false,
    "pycharm": {
     "name": "#%%\n",
     "is_executing": true
    }
   }
  },
  {
   "cell_type": "code",
   "execution_count": null,
   "outputs": [],
   "source": [
    "print('finish2')"
   ],
   "metadata": {
    "collapsed": false,
    "pycharm": {
     "name": "#%%\n",
     "is_executing": true
    }
   }
  },
  {
   "cell_type": "markdown",
   "source": [
    "df_test 归一化 → df_test = X_train + X_test\n",
    " 需要用到原始 test_data 格式"
   ],
   "metadata": {
    "collapsed": false,
    "pycharm": {
     "name": "#%% md\n"
    }
   }
  },
  {
   "cell_type": "code",
   "execution_count": null,
   "outputs": [],
   "source": [
    "%%time\n",
    "test_norm = sc.pp.normalize_total(test_data, exclude_highly_expressed=True , inplace=False)['X']\n",
    "display(test_norm)\n",
    "display(type(test_norm))\n",
    "dense_test_norm = test_norm.toarray()#非零稀疏索引转为二维数组\n",
    "display(dense_test_norm)\n",
    "df_test_norm = pd.DataFrame(dense_test_norm, index=test_data.obs.index, columns=test_data.var.index).copy()\n",
    "display(df_test_norm)"
   ],
   "metadata": {
    "collapsed": false,
    "pycharm": {
     "name": "#%%\n",
     "is_executing": true
    }
   }
  },
  {
   "cell_type": "markdown",
   "source": [
    "PCA降维，降维到50,details未知"
   ],
   "metadata": {
    "collapsed": false,
    "pycharm": {
     "name": "#%% md\n"
    }
   }
  },
  {
   "cell_type": "code",
   "execution_count": null,
   "outputs": [],
   "source": [
    "%%time\n",
    "from scipy.sparse import csc_matrix\n",
    "importlib.reload(mf)\n",
    "pca_test = sc.pp.pca(anndata.AnnData(X = test_norm), n_comps= 5000, zero_center=True, copy = True, svd_solver='auto', random_state=42)\n",
    "display(pca_test.obsm['X_pca'])#※降维后50个维度的值（归一化后）\n",
    "display(pca_test.obsm['X_pca'].shape)\n",
    "display(type(pca_test.obsm['X_pca']))\n",
    "# display(pca_test.varm['PCs'])#降维后与原维度的关系\n",
    "# display(pca_test.varm['PCs'].shape)\n",
    "# display(pca_test.uns['pca']['variance_ratio'])#残差参数\n",
    "# display(pca_test.uns['pca']['variance_ratio'].shape)\n",
    "# display(pca_test.uns['pca']['variance'])#残差原值\n",
    "# display(pca_test.uns['pca']['variance'].shape)\n",
    "display(type(pca_test))\n",
    "print(pca_test.shape)#→copy=true的缘故"
   ],
   "metadata": {
    "collapsed": false,
    "pycharm": {
     "name": "#%%\n",
     "is_executing": true
    }
   }
  },
  {
   "cell_type": "markdown",
   "source": [
    "纳入模型数据整理\n",
    "要求是归一化后的数据\n"
   ],
   "metadata": {
    "collapsed": false,
    "pycharm": {
     "name": "#%% md\n"
    }
   }
  },
  {
   "cell_type": "code",
   "execution_count": null,
   "outputs": [],
   "source": [
    "%%time\n",
    "#X_train --df_train2\n",
    "#思路，要在training.csv的UMIs找出其在test_data的行索引，后在pca_test中提取\n",
    "matching_indices = np.where(df_test.index.isin(df_train['UMIs']))[0]#array\n",
    "X_train = pca_test.obsm['X_pca'][matching_indices]\n",
    "#X_test --(df_test - df_train2) ,X_trian的补集\n",
    "X_test = pca_test.obsm['X_pca'][[i for i in range(len(df_test.index)) if i not in matching_indices]]\n",
    "print(X_train.shape)\n",
    "print(X_test.shape)\n",
    "#y_train training.csv--y_train#需要一维数组\n",
    "y_train = df_train['result'].values\n",
    "print(y_train.shape)\n",
    "#y_test prediction.csv--y_test\n",
    "y_test = pd.read_csv(\"prediction/prediction.csv\",header=None).copy()\n",
    "y_test.columns = ['UMIs', 'result']\n",
    "display(y_test)\n",
    "y_test = y_test['result'].values\n",
    "print(y_test.shape)"
   ],
   "metadata": {
    "collapsed": false,
    "pycharm": {
     "name": "#%%\n",
     "is_executing": true
    }
   }
  },
  {
   "cell_type": "markdown",
   "source": [
    "跑模型，随机森林为例 文件 myRF"
   ],
   "metadata": {
    "collapsed": false,
    "pycharm": {
     "name": "#%% md\n"
    }
   }
  },
  {
   "cell_type": "code",
   "execution_count": null,
   "outputs": [],
   "source": [
    "%%time\n",
    "import my_RF as mr\n",
    "mcc0 =  mr.rf(X=None,y=None,mode='train',X_train=X_train, X_test=X_test, y_train=y_train, y_test=y_test,pattern = 0)#0或1 ，看那个结果好\n",
    "_,mcc1 = mr.rf(X=None,y=None,mode='train',X_train=X_train, X_test=X_test, y_train=y_train, y_test=y_test,pattern = 1)#0或1 ，看那个结果好\n",
    "print(mcc0)\n",
    "print(mcc1)"
   ],
   "metadata": {
    "collapsed": false,
    "pycharm": {
     "name": "#%%\n",
     "is_executing": true
    }
   }
  },
  {
   "cell_type": "code",
   "execution_count": null,
   "outputs": [],
   "source": [
    "importlib.reload(mr)\n"
   ],
   "metadata": {
    "collapsed": false,
    "pycharm": {
     "name": "#%%\n",
     "is_executing": true
    }
   }
  }
 ],
 "metadata": {
  "kernelspec": {
   "display_name": "Python 3",
   "language": "python",
   "name": "python3"
  },
  "language_info": {
   "codemirror_mode": {
    "name": "ipython",
    "version": 2
   },
   "file_extension": ".py",
   "mimetype": "text/x-python",
   "name": "python",
   "nbconvert_exporter": "python",
   "pygments_lexer": "ipython2",
   "version": "2.7.6"
  }
 },
 "nbformat": 4,
 "nbformat_minor": 0
}