{
 "cells": [
  {
   "cell_type": "code",
   "execution_count": 46,
   "metadata": {
    "collapsed": true,
    "pycharm": {
     "name": "#%%\n"
    }
   },
   "outputs": [
    {
     "name": "stdout",
     "output_type": "stream",
     "text": [
      "['D:\\\\Program Files\\\\JetBrains\\\\PyCharm 2022.1.4\\\\plugins\\\\python\\\\helpers-pro\\\\jupyter_debug', 'D:\\\\Program Files\\\\JetBrains\\\\PyCharm 2022.1.4\\\\plugins\\\\python\\\\helpers\\\\pydev', 'D:\\\\Hackathon-Summer-2023', 'D:\\\\Hackathon-Summer-2023', 'C:\\\\Users\\\\jibi\\\\AppData\\\\Local\\\\Programs\\\\Python\\\\Python310\\\\python310.zip', 'C:\\\\Users\\\\jibi\\\\AppData\\\\Local\\\\Programs\\\\Python\\\\Python310\\\\DLLs', 'C:\\\\Users\\\\jibi\\\\AppData\\\\Local\\\\Programs\\\\Python\\\\Python310\\\\lib', 'C:\\\\Users\\\\jibi\\\\AppData\\\\Local\\\\Programs\\\\Python\\\\Python310', 'D:\\\\JIBI\\\\pycharm笔记相关\\\\venv', '', 'D:\\\\JIBI\\\\pycharm笔记相关\\\\venv\\\\lib\\\\site-packages', 'D:\\\\JIBI\\\\pycharm笔记相关\\\\venv\\\\lib\\\\site-packages\\\\win32', 'D:\\\\JIBI\\\\pycharm笔记相关\\\\venv\\\\lib\\\\site-packages\\\\win32\\\\lib', 'D:\\\\JIBI\\\\pycharm笔记相关\\\\venv\\\\lib\\\\site-packages\\\\Pythonwin']\n"
     ]
    }
   ],
   "source": [
    "import sys\n",
    "print(sys.path)"
   ]
  },
  {
   "cell_type": "code",
   "execution_count": 47,
   "outputs": [
    {
     "name": "stdout",
     "output_type": "stream",
     "text": [
      "scanpy_test\n"
     ]
    }
   ],
   "source": [
    "from IPython.display import display\n",
    "import anndata\n",
    "import pandas as pd\n",
    "import numpy as np\n",
    "import my_fuc as mf\n",
    "import importlib\n",
    "importlib.reload(mf)\n",
    "import scanpy as sc\n",
    "print('scanpy_test')"
   ],
   "metadata": {
    "collapsed": false,
    "pycharm": {
     "name": "#%%\n"
    }
   }
  },
  {
   "cell_type": "code",
   "execution_count": 48,
   "outputs": [
    {
     "data": {
      "text/plain": "AnnData object with n_obs × n_vars = 21954 × 25269\n    uns: 'X_name'"
     },
     "metadata": {},
     "output_type": "display_data"
    },
    {
     "data": {
      "text/plain": "anndata._core.anndata.AnnData"
     },
     "metadata": {},
     "output_type": "display_data"
    }
   ],
   "source": [
    "test_path = 'test_data/sce.h5ad'\n",
    "test_data = anndata.read_h5ad(test_path)#等价于scanpy.read_h5ad(..)\n",
    "display(test_data)\n",
    "display(type(test_data))"
   ],
   "metadata": {
    "collapsed": false,
    "pycharm": {
     "name": "#%%\n"
    }
   }
  },
  {
   "cell_type": "code",
   "execution_count": 49,
   "outputs": [
    {
     "name": "stdout",
     "output_type": "stream",
     "text": [
      "Empty DataFrame\n",
      "Columns: []\n",
      "Index: [AGAGCGAAGATCTGCT, ACATCAGTCTGACCTC, TTCTCCTGTCCTGCTT, GAAACTCTCATGTAGC, CAGTCCTGTCTAGCCG, CATGCCTCACACCGCA, AGGCCGTAGGCCCGTT, AAGTCTGAGCGTCTAT, CAGTAACCAGGAACGT, GTCTCGTTCGTACCGG, CCACGGAAGCACACAG, CGCTATCAGTGAAGTT, CGGAGCTCACATTTCT, AGATTGCAGCTGATAA, AGATTGCGTTTGGGCC, AGCGTATTCGACCAGC, GTGTTAGTCGTCGTTC, ACGGGCTCAGGTCTCG, TACTCATAGTACGTTC, CAACCTCGTACGCACC, CGATGTATCTCACATT, GATCGTAGTAAATGTG, CATGACATCTATCGCC, CATATGGCAACTGCGC, ACCGTAAGTCTAGCGC, TGGTTCCAGTCCTCCT, AGCAGCCAGTGCCATT, GGCGTGTTCAGGCAAG, CACAAACAGTGCGATG, ATGGGAGCAGATCGGA, ATCACGATCACTATTC, CTTCTCTAGCCCTAAT, AACTGGTTCGGTTCGG, GACAGAGAGCCCGAAA, ACGATGTAGCGATGAC, CCGTGGACATCTACGA, GGAACTTCATAGGATA, TCGGGACCAAAGAATC, TACACGATCGCTTAGA, ATGTGTGTCCAAAGTC, GCTGCGATCTTCGGTC, GCAATCACAGCTCGAC, GCAGTTACACATGGGA, ATCATCTTCTGCTGCT, GCTGGGTAGACTCGGA, TTCTACACACCGTTGG, CTCGTACCAATGGAGC, CGAGAAGCATGCGCAC, TGAGGGACAGCCTGTG, GGACAGATCCCAAGAT, CATTCGCGTACCAGTT, GTTTCTAAGTCGATAA, CCCATACTCGGTGTTA, ACTTTCAAGATGAGAG, CGCTATCTCCTTTACA, GGGTCTGCAGACTCGC, AAAGATGTCCGCGCAA, ACCCACTGTAAGTGTA, GTCAAGTCAATCCAAC, GGGATGAGTCGAACAG, CTGCGGAGTGTGACGA, TCGTAGAGTAAATACG, TATCTCACACGAGGTA, CGAATGTCAAGGCTCC, CACCTTGCATCACGTA, CACATTTGTATGAAAC, GTCCTCATCCTTGGTC, GGACATTCATTAGCCA, GATCTAGGTCAATACC, TGACAACGTAAGGGCT, TAGTGGTAGGCCCGTT, TGACTAGCACAGGCCT, CCCAATCCAATCGGTT, AGAATAGAGTGACTCT, ACACCAATCCGTCAAA, GTAACGTAGAGTACCG, GCGCGATCATGGAATA, AAACGGGGTGCAACTT, TGAAAGACAAGGTGTG, TGCTGCTAGGGTTTCT, GCTGCGACATGCCTAA, CGTTCTGCAATGGAGC, CCACGGACAAGTAATG, TTATGCTTCTCGGACG, GGAATAATCCATTCTA, TTGAACGCAATTGCTG, TGGCTGGCAGGACGTA, TGGTTCCTCGCCTGAG, GGATGTTCAAGAAGAG, GAACGGATCACAGGCC, CTGCGGATCTTGTACT, TTGACTTGTAACGTTC, TTTACTGGTTGATTGC, AACTCAGGTAGGACAC, AGGCCGTTCACATACG, GGACGTCGTACACCGC, AGCGGTCGTACGACCC, CTCGTCACAGGACGTA, GAGGTGAGTAATCACC, GGGCACTGTCTTTCAT, ...]\n",
      "\n",
      "[21954 rows x 0 columns]\n",
      "<class 'pandas.core.frame.DataFrame'>\n",
      "Empty DataFrame\n",
      "Columns: []\n",
      "Index: [A1BG, A1BG-AS1, A1CF, A2M, A2M-AS1, A2ML1, A4GALT, AA415398, AA465934, AA467197, AA474331, AA474408, AA987161, AAAS, AACS, AADAT, AAED1, AAGAB, AAK1, AAMDC, AAMP, AANAT, AAR2, AARD, AARS, AARS2, AARSD1, AASDH, AASDHPPT, AASS, AATF, AATK, AB015752.3, AB041803, ABAT, ABCA1, ABCA10, ABCA12, ABCA2, ABCA3, ABCA5, ABCA6, ABCA7, ABCA8, ABCA9, ABCB1, ABCB10, ABCB4, ABCB5, ABCB6, ABCB7, ABCB8, ABCB9, ABCC1, ABCC10, ABCC11, ABCC2, ABCC3, ABCC4, ABCC5, ABCC6, ABCC8, ABCC9, ABCD1, ABCD2, ABCD3, ABCD4, ABCE1, ABCF1, ABCF2, ABCF3, ABCG1, ABCG2, ABCG4, ABHD1, ABHD10, ABHD11, ABHD12, ABHD12B, ABHD13, ABHD14A, ABHD14B, ABHD15, ABHD16A, ABHD16B, ABHD17A, ABHD17B, ABHD17C, ABHD2, ABHD3, ABHD4, ABHD5, ABHD6, ABHD8, ABI1, ABI2, ABI3, ABI3BP, ABL1, ABL2, ...]\n",
      "\n",
      "[25269 rows x 0 columns]\n",
      "<class 'pandas.core.frame.DataFrame'>\n",
      "  (15, 0)\t1.0\n",
      "  (141, 0)\t1.0\n",
      "  (193, 0)\t1.0\n",
      "  (271, 0)\t1.0\n",
      "  (283, 0)\t1.0\n",
      "  (295, 0)\t1.0\n",
      "  (371, 0)\t1.0\n",
      "  (373, 0)\t1.0\n",
      "  (377, 0)\t1.0\n",
      "  (526, 0)\t1.0\n",
      "  (575, 0)\t1.0\n",
      "  (610, 0)\t1.0\n",
      "  (674, 0)\t1.0\n",
      "  (1209, 0)\t1.0\n",
      "  (2382, 0)\t1.0\n",
      "  (2593, 0)\t1.0\n",
      "  (2771, 0)\t1.0\n",
      "  (3240, 0)\t1.0\n",
      "  (3456, 0)\t1.0\n",
      "  (4136, 0)\t1.0\n",
      "  (5754, 0)\t1.0\n",
      "  (6022, 0)\t1.0\n",
      "  (6755, 0)\t1.0\n",
      "  (7180, 0)\t1.0\n",
      "  (7690, 0)\t1.0\n",
      "  :\t:\n",
      "  (16151, 25267)\t1.0\n",
      "  (16391, 25267)\t1.0\n",
      "  (16610, 25267)\t1.0\n",
      "  (16652, 25267)\t1.0\n",
      "  (16818, 25267)\t1.0\n",
      "  (17281, 25267)\t1.0\n",
      "  (17374, 25267)\t1.0\n",
      "  (17527, 25267)\t1.0\n",
      "  (17605, 25267)\t1.0\n",
      "  (17658, 25267)\t1.0\n",
      "  (19457, 25267)\t1.0\n",
      "  (21346, 25267)\t1.0\n",
      "  (26, 25268)\t1.0\n",
      "  (136, 25268)\t1.0\n",
      "  (1301, 25268)\t1.0\n",
      "  (1302, 25268)\t1.0\n",
      "  (1912, 25268)\t1.0\n",
      "  (2019, 25268)\t1.0\n",
      "  (2812, 25268)\t1.0\n",
      "  (3296, 25268)\t1.0\n",
      "  (4584, 25268)\t1.0\n",
      "  (5063, 25268)\t1.0\n",
      "  (7637, 25268)\t1.0\n",
      "  (13261, 25268)\t1.0\n",
      "  (14845, 25268)\t1.0\n",
      "<class 'scipy.sparse._csc.csc_matrix'>\n",
      "(21954, 25269)\n"
     ]
    }
   ],
   "source": [
    "print(test_data.obs)#查看观察元数据\n",
    "print(type(test_data.obs))#dataframe,空列，只有行索引有内容\n",
    "\n",
    "print(test_data.var)# 查看变量元数据\n",
    "print(type(test_data.var))\n",
    "\n",
    "print(test_data.X)# 查看数据拒阵，但只提供非零教据相当于是非0数据的索引表内容:(16151，25267) 1,前者为元组，16151行的25267列的内容非零(为1)\n",
    "print(type(test_data.X))#<class 'scipy.sparse._csc.csc_matrix'>\n",
    "print(test_data.X.shape)#(21954, 25269)原形状\n",
    "# print(test_data.uns)# uns属性是未排序的元数据字典，其中可能包含与数据相关的其他信息{'X_name': 'counts'}\n",
    "# print(test_data.uns['X_name'])#uns属性中X_name键对应的值为counts  counts"
   ],
   "metadata": {
    "collapsed": false,
    "pycharm": {
     "name": "#%%\n"
    }
   }
  },
  {
   "cell_type": "markdown",
   "source": [
    "获得原始矩阵"
   ],
   "metadata": {
    "collapsed": false,
    "pycharm": {
     "name": "#%% md\n"
    }
   }
  },
  {
   "cell_type": "code",
   "execution_count": 50,
   "outputs": [
    {
     "data": {
      "text/plain": "array([[0., 0., 0., ..., 0., 2., 0.],\n       [0., 0., 0., ..., 0., 1., 0.],\n       [0., 0., 0., ..., 0., 1., 0.],\n       ...,\n       [0., 0., 0., ..., 0., 0., 0.],\n       [0., 0., 0., ..., 0., 0., 0.],\n       [0., 0., 0., ..., 0., 0., 0.]])"
     },
     "metadata": {},
     "output_type": "display_data"
    },
    {
     "data": {
      "text/plain": "(21954, 25269)"
     },
     "metadata": {},
     "output_type": "display_data"
    },
    {
     "data": {
      "text/plain": "2"
     },
     "metadata": {},
     "output_type": "display_data"
    },
    {
     "name": "stdout",
     "output_type": "stream",
     "text": [
      "大于等于1的单元格个数: 11039225\n",
      "CPU times: total: 4.12 s\n",
      "Wall time: 5.06 s\n"
     ]
    }
   ],
   "source": [
    "%%time\n",
    "dense_matrix = test_data.X.toarray()#非零稀疏索引转为二维数组\n",
    "display(dense_matrix)\n",
    "display(dense_matrix.shape)\n",
    "display(dense_matrix.ndim)\n",
    "count_greater_than_1 = np.sum(dense_matrix >= 1.0)\n",
    "print(\"大于等于1的单元格个数:\", count_greater_than_1)"
   ],
   "metadata": {
    "collapsed": false,
    "pycharm": {
     "name": "#%%\n"
    }
   }
  },
  {
   "cell_type": "markdown",
   "source": [
    "二维数组→df"
   ],
   "metadata": {
    "collapsed": false,
    "pycharm": {
     "name": "#%% md\n"
    }
   }
  },
  {
   "cell_type": "code",
   "execution_count": 51,
   "outputs": [
    {
     "data": {
      "text/plain": "                  A1BG  A1BG-AS1  A1CF  A2M  A2M-AS1  A2ML1  A4GALT  AA415398  \\\nAGAGCGAAGATCTGCT   0.0       0.0   0.0  0.0      0.0    0.0     0.0       0.0   \nACATCAGTCTGACCTC   0.0       0.0   0.0  0.0      1.0    0.0     0.0       0.0   \nTTCTCCTGTCCTGCTT   0.0       0.0   0.0  0.0      1.0    0.0     0.0       0.0   \nGAAACTCTCATGTAGC   0.0       0.0   0.0  0.0      0.0    0.0     0.0       0.0   \nCAGTCCTGTCTAGCCG   0.0       0.0   0.0  0.0      0.0    0.0     0.0       0.0   \n...                ...       ...   ...  ...      ...    ...     ...       ...   \nTTTATGCTCTTGTACT   0.0       0.0   0.0  0.0      0.0    0.0     0.0       0.0   \nATAACGCCAAGCTGGA   0.0       0.0   0.0  0.0      0.0    0.0     0.0       0.0   \nATTACTCAGTGGACGT   0.0       0.0   0.0  0.0      0.0    0.0     0.0       0.0   \nCGTGTCTCAAGCGTAG   0.0       0.0   0.0  0.0      0.0    0.0     0.0       0.0   \nCCGGGATCAATCGGTT   0.0       0.0   0.0  0.0      0.0    0.0     0.0       0.0   \n\n                  AA465934  AA467197  ...  hsa-mir-3181  hsa-mir-335  \\\nAGAGCGAAGATCTGCT       0.0       0.0  ...           0.0          0.0   \nACATCAGTCTGACCTC       0.0       0.0  ...           0.0          0.0   \nTTCTCCTGTCCTGCTT       0.0       0.0  ...           0.0          0.0   \nGAAACTCTCATGTAGC       0.0       0.0  ...           0.0          0.0   \nCAGTCCTGTCTAGCCG       0.0       0.0  ...           0.0          0.0   \n...                    ...       ...  ...           ...          ...   \nTTTATGCTCTTGTACT       0.0       0.0  ...           0.0          0.0   \nATAACGCCAAGCTGGA       0.0       0.0  ...           0.0          0.0   \nATTACTCAGTGGACGT       0.0       0.0  ...           0.0          0.0   \nCGTGTCTCAAGCGTAG       0.0       0.0  ...           0.0          0.0   \nCCGGGATCAATCGGTT       0.0       0.0  ...           0.0          0.0   \n\n                  hsa-mir-4259  hsa-mir-4537  hsa-mir-4538  hsa-mir-490  \\\nAGAGCGAAGATCTGCT           0.0           0.0           0.0          0.0   \nACATCAGTCTGACCTC           0.0           0.0           0.0          0.0   \nTTCTCCTGTCCTGCTT           0.0           0.0           0.0          0.0   \nGAAACTCTCATGTAGC           0.0           0.0           0.0          0.0   \nCAGTCCTGTCTAGCCG           0.0           0.0           0.0          0.0   \n...                        ...           ...           ...          ...   \nTTTATGCTCTTGTACT           0.0           0.0           0.0          0.0   \nATAACGCCAAGCTGGA           0.0           0.0           0.0          0.0   \nATTACTCAGTGGACGT           0.0           0.0           0.0          0.0   \nCGTGTCTCAAGCGTAG           0.0           0.0           0.0          0.0   \nCCGGGATCAATCGGTT           0.0           0.0           0.0          0.0   \n\n                  hsa-mir-5195  hsa-mir-6080  hsa-mir-8072  snoU2-30  \nAGAGCGAAGATCTGCT           0.0           0.0           2.0       0.0  \nACATCAGTCTGACCTC           0.0           0.0           1.0       0.0  \nTTCTCCTGTCCTGCTT           0.0           0.0           1.0       0.0  \nGAAACTCTCATGTAGC           0.0           0.0           2.0       0.0  \nCAGTCCTGTCTAGCCG           0.0           0.0           0.0       0.0  \n...                        ...           ...           ...       ...  \nTTTATGCTCTTGTACT           0.0           0.0           0.0       0.0  \nATAACGCCAAGCTGGA           0.0           0.0           0.0       0.0  \nATTACTCAGTGGACGT           0.0           0.0           0.0       0.0  \nCGTGTCTCAAGCGTAG           0.0           0.0           0.0       0.0  \nCCGGGATCAATCGGTT           0.0           0.0           0.0       0.0  \n\n[21954 rows x 25269 columns]",
      "text/html": "<div>\n<style scoped>\n    .dataframe tbody tr th:only-of-type {\n        vertical-align: middle;\n    }\n\n    .dataframe tbody tr th {\n        vertical-align: top;\n    }\n\n    .dataframe thead th {\n        text-align: right;\n    }\n</style>\n<table border=\"1\" class=\"dataframe\">\n  <thead>\n    <tr style=\"text-align: right;\">\n      <th></th>\n      <th>A1BG</th>\n      <th>A1BG-AS1</th>\n      <th>A1CF</th>\n      <th>A2M</th>\n      <th>A2M-AS1</th>\n      <th>A2ML1</th>\n      <th>A4GALT</th>\n      <th>AA415398</th>\n      <th>AA465934</th>\n      <th>AA467197</th>\n      <th>...</th>\n      <th>hsa-mir-3181</th>\n      <th>hsa-mir-335</th>\n      <th>hsa-mir-4259</th>\n      <th>hsa-mir-4537</th>\n      <th>hsa-mir-4538</th>\n      <th>hsa-mir-490</th>\n      <th>hsa-mir-5195</th>\n      <th>hsa-mir-6080</th>\n      <th>hsa-mir-8072</th>\n      <th>snoU2-30</th>\n    </tr>\n  </thead>\n  <tbody>\n    <tr>\n      <th>AGAGCGAAGATCTGCT</th>\n      <td>0.0</td>\n      <td>0.0</td>\n      <td>0.0</td>\n      <td>0.0</td>\n      <td>0.0</td>\n      <td>0.0</td>\n      <td>0.0</td>\n      <td>0.0</td>\n      <td>0.0</td>\n      <td>0.0</td>\n      <td>...</td>\n      <td>0.0</td>\n      <td>0.0</td>\n      <td>0.0</td>\n      <td>0.0</td>\n      <td>0.0</td>\n      <td>0.0</td>\n      <td>0.0</td>\n      <td>0.0</td>\n      <td>2.0</td>\n      <td>0.0</td>\n    </tr>\n    <tr>\n      <th>ACATCAGTCTGACCTC</th>\n      <td>0.0</td>\n      <td>0.0</td>\n      <td>0.0</td>\n      <td>0.0</td>\n      <td>1.0</td>\n      <td>0.0</td>\n      <td>0.0</td>\n      <td>0.0</td>\n      <td>0.0</td>\n      <td>0.0</td>\n      <td>...</td>\n      <td>0.0</td>\n      <td>0.0</td>\n      <td>0.0</td>\n      <td>0.0</td>\n      <td>0.0</td>\n      <td>0.0</td>\n      <td>0.0</td>\n      <td>0.0</td>\n      <td>1.0</td>\n      <td>0.0</td>\n    </tr>\n    <tr>\n      <th>TTCTCCTGTCCTGCTT</th>\n      <td>0.0</td>\n      <td>0.0</td>\n      <td>0.0</td>\n      <td>0.0</td>\n      <td>1.0</td>\n      <td>0.0</td>\n      <td>0.0</td>\n      <td>0.0</td>\n      <td>0.0</td>\n      <td>0.0</td>\n      <td>...</td>\n      <td>0.0</td>\n      <td>0.0</td>\n      <td>0.0</td>\n      <td>0.0</td>\n      <td>0.0</td>\n      <td>0.0</td>\n      <td>0.0</td>\n      <td>0.0</td>\n      <td>1.0</td>\n      <td>0.0</td>\n    </tr>\n    <tr>\n      <th>GAAACTCTCATGTAGC</th>\n      <td>0.0</td>\n      <td>0.0</td>\n      <td>0.0</td>\n      <td>0.0</td>\n      <td>0.0</td>\n      <td>0.0</td>\n      <td>0.0</td>\n      <td>0.0</td>\n      <td>0.0</td>\n      <td>0.0</td>\n      <td>...</td>\n      <td>0.0</td>\n      <td>0.0</td>\n      <td>0.0</td>\n      <td>0.0</td>\n      <td>0.0</td>\n      <td>0.0</td>\n      <td>0.0</td>\n      <td>0.0</td>\n      <td>2.0</td>\n      <td>0.0</td>\n    </tr>\n    <tr>\n      <th>CAGTCCTGTCTAGCCG</th>\n      <td>0.0</td>\n      <td>0.0</td>\n      <td>0.0</td>\n      <td>0.0</td>\n      <td>0.0</td>\n      <td>0.0</td>\n      <td>0.0</td>\n      <td>0.0</td>\n      <td>0.0</td>\n      <td>0.0</td>\n      <td>...</td>\n      <td>0.0</td>\n      <td>0.0</td>\n      <td>0.0</td>\n      <td>0.0</td>\n      <td>0.0</td>\n      <td>0.0</td>\n      <td>0.0</td>\n      <td>0.0</td>\n      <td>0.0</td>\n      <td>0.0</td>\n    </tr>\n    <tr>\n      <th>...</th>\n      <td>...</td>\n      <td>...</td>\n      <td>...</td>\n      <td>...</td>\n      <td>...</td>\n      <td>...</td>\n      <td>...</td>\n      <td>...</td>\n      <td>...</td>\n      <td>...</td>\n      <td>...</td>\n      <td>...</td>\n      <td>...</td>\n      <td>...</td>\n      <td>...</td>\n      <td>...</td>\n      <td>...</td>\n      <td>...</td>\n      <td>...</td>\n      <td>...</td>\n      <td>...</td>\n    </tr>\n    <tr>\n      <th>TTTATGCTCTTGTACT</th>\n      <td>0.0</td>\n      <td>0.0</td>\n      <td>0.0</td>\n      <td>0.0</td>\n      <td>0.0</td>\n      <td>0.0</td>\n      <td>0.0</td>\n      <td>0.0</td>\n      <td>0.0</td>\n      <td>0.0</td>\n      <td>...</td>\n      <td>0.0</td>\n      <td>0.0</td>\n      <td>0.0</td>\n      <td>0.0</td>\n      <td>0.0</td>\n      <td>0.0</td>\n      <td>0.0</td>\n      <td>0.0</td>\n      <td>0.0</td>\n      <td>0.0</td>\n    </tr>\n    <tr>\n      <th>ATAACGCCAAGCTGGA</th>\n      <td>0.0</td>\n      <td>0.0</td>\n      <td>0.0</td>\n      <td>0.0</td>\n      <td>0.0</td>\n      <td>0.0</td>\n      <td>0.0</td>\n      <td>0.0</td>\n      <td>0.0</td>\n      <td>0.0</td>\n      <td>...</td>\n      <td>0.0</td>\n      <td>0.0</td>\n      <td>0.0</td>\n      <td>0.0</td>\n      <td>0.0</td>\n      <td>0.0</td>\n      <td>0.0</td>\n      <td>0.0</td>\n      <td>0.0</td>\n      <td>0.0</td>\n    </tr>\n    <tr>\n      <th>ATTACTCAGTGGACGT</th>\n      <td>0.0</td>\n      <td>0.0</td>\n      <td>0.0</td>\n      <td>0.0</td>\n      <td>0.0</td>\n      <td>0.0</td>\n      <td>0.0</td>\n      <td>0.0</td>\n      <td>0.0</td>\n      <td>0.0</td>\n      <td>...</td>\n      <td>0.0</td>\n      <td>0.0</td>\n      <td>0.0</td>\n      <td>0.0</td>\n      <td>0.0</td>\n      <td>0.0</td>\n      <td>0.0</td>\n      <td>0.0</td>\n      <td>0.0</td>\n      <td>0.0</td>\n    </tr>\n    <tr>\n      <th>CGTGTCTCAAGCGTAG</th>\n      <td>0.0</td>\n      <td>0.0</td>\n      <td>0.0</td>\n      <td>0.0</td>\n      <td>0.0</td>\n      <td>0.0</td>\n      <td>0.0</td>\n      <td>0.0</td>\n      <td>0.0</td>\n      <td>0.0</td>\n      <td>...</td>\n      <td>0.0</td>\n      <td>0.0</td>\n      <td>0.0</td>\n      <td>0.0</td>\n      <td>0.0</td>\n      <td>0.0</td>\n      <td>0.0</td>\n      <td>0.0</td>\n      <td>0.0</td>\n      <td>0.0</td>\n    </tr>\n    <tr>\n      <th>CCGGGATCAATCGGTT</th>\n      <td>0.0</td>\n      <td>0.0</td>\n      <td>0.0</td>\n      <td>0.0</td>\n      <td>0.0</td>\n      <td>0.0</td>\n      <td>0.0</td>\n      <td>0.0</td>\n      <td>0.0</td>\n      <td>0.0</td>\n      <td>...</td>\n      <td>0.0</td>\n      <td>0.0</td>\n      <td>0.0</td>\n      <td>0.0</td>\n      <td>0.0</td>\n      <td>0.0</td>\n      <td>0.0</td>\n      <td>0.0</td>\n      <td>0.0</td>\n      <td>0.0</td>\n    </tr>\n  </tbody>\n</table>\n<p>21954 rows × 25269 columns</p>\n</div>"
     },
     "metadata": {},
     "output_type": "display_data"
    },
    {
     "name": "stdout",
     "output_type": "stream",
     "text": [
      "大于等于1的单元格个数: 11039225\n",
      "21954\n",
      "25269\n",
      "3053.0\n",
      "0.0\n",
      "CPU times: total: 15.1 s\n",
      "Wall time: 18 s\n"
     ]
    }
   ],
   "source": [
    "%%time\n",
    "dense_matrix_df = pd.DataFrame(dense_matrix, index=test_data.obs.index, columns=test_data.var.index)\n",
    "display(dense_matrix_df)\n",
    "# 使用条件筛选和np.sum()统计大于等于1的单元格个数#11039225\n",
    "count_greater_than_1_2 = (dense_matrix_df >= 1).sum().sum()\n",
    "print(\"大于等于1的单元格个数:\", count_greater_than_1_2)#验证非零个数\n",
    "df_test = dense_matrix_df.copy()#备份，准备运算\n",
    "print(len(set(df_test.index.tolist())))#看总体数据UMIs是否重复→ 无重复\n",
    "print(len(set(df_test.columns.tolist())))#看总体数据genes是否重复→ 无重复\n",
    "print(df_test.max().max())\n",
    "print(df_test.min().min())"
   ],
   "metadata": {
    "collapsed": false,
    "pycharm": {
     "name": "#%%\n"
    }
   }
  },
  {
   "cell_type": "markdown",
   "source": [
    "读取训练集数据"
   ],
   "metadata": {
    "collapsed": false,
    "pycharm": {
     "name": "#%% md\n"
    }
   }
  },
  {
   "cell_type": "code",
   "execution_count": 52,
   "outputs": [
    {
     "data": {
      "text/plain": "                 UMIs  result\n0    GCTCTGTCAATGGATA       1\n1    GATGAGGGTACGAAAT       0\n2    AGGCCACGTACAGCAG       0\n3    ACGCCGAGTCACACGC       0\n4    TCTTCGGAGGCTAGCA       0\n..                ...     ...\n995  ACTGCTCCACTCGACG       0\n996  TGGTTAGGTAAACGCG       0\n997  TTCTCAATCAGTACGT       1\n998  TGAGCCGGTCTCTTAT       0\n999  AGGTCCGTCCATGCTC       0\n\n[1000 rows x 2 columns]",
      "text/html": "<div>\n<style scoped>\n    .dataframe tbody tr th:only-of-type {\n        vertical-align: middle;\n    }\n\n    .dataframe tbody tr th {\n        vertical-align: top;\n    }\n\n    .dataframe thead th {\n        text-align: right;\n    }\n</style>\n<table border=\"1\" class=\"dataframe\">\n  <thead>\n    <tr style=\"text-align: right;\">\n      <th></th>\n      <th>UMIs</th>\n      <th>result</th>\n    </tr>\n  </thead>\n  <tbody>\n    <tr>\n      <th>0</th>\n      <td>GCTCTGTCAATGGATA</td>\n      <td>1</td>\n    </tr>\n    <tr>\n      <th>1</th>\n      <td>GATGAGGGTACGAAAT</td>\n      <td>0</td>\n    </tr>\n    <tr>\n      <th>2</th>\n      <td>AGGCCACGTACAGCAG</td>\n      <td>0</td>\n    </tr>\n    <tr>\n      <th>3</th>\n      <td>ACGCCGAGTCACACGC</td>\n      <td>0</td>\n    </tr>\n    <tr>\n      <th>4</th>\n      <td>TCTTCGGAGGCTAGCA</td>\n      <td>0</td>\n    </tr>\n    <tr>\n      <th>...</th>\n      <td>...</td>\n      <td>...</td>\n    </tr>\n    <tr>\n      <th>995</th>\n      <td>ACTGCTCCACTCGACG</td>\n      <td>0</td>\n    </tr>\n    <tr>\n      <th>996</th>\n      <td>TGGTTAGGTAAACGCG</td>\n      <td>0</td>\n    </tr>\n    <tr>\n      <th>997</th>\n      <td>TTCTCAATCAGTACGT</td>\n      <td>1</td>\n    </tr>\n    <tr>\n      <th>998</th>\n      <td>TGAGCCGGTCTCTTAT</td>\n      <td>0</td>\n    </tr>\n    <tr>\n      <th>999</th>\n      <td>AGGTCCGTCCATGCTC</td>\n      <td>0</td>\n    </tr>\n  </tbody>\n</table>\n<p>1000 rows × 2 columns</p>\n</div>"
     },
     "metadata": {},
     "output_type": "display_data"
    },
    {
     "name": "stdout",
     "output_type": "stream",
     "text": [
      "145\n"
     ]
    }
   ],
   "source": [
    "train_data = pd.read_csv('train/training.csv',header = None, names = ['UMIs','result'])\n",
    "df_train = train_data.copy()#备份\n",
    "display(df_train)#y_train\n",
    "count_nonzero = (df_train['result'] != 0).sum()\n",
    "print(count_nonzero)\n",
    "#print(len(set(df_train['UMIs'])))"
   ],
   "metadata": {
    "collapsed": false,
    "pycharm": {
     "name": "#%%\n"
    }
   }
  },
  {
   "cell_type": "markdown",
   "source": [
    "看下training 的UMIs是否存在于df_test当中"
   ],
   "metadata": {
    "collapsed": false,
    "pycharm": {
     "name": "#%% md\n"
    }
   }
  },
  {
   "cell_type": "code",
   "execution_count": 53,
   "outputs": [
    {
     "data": {
      "text/plain": "                  A1BG  A1BG-AS1  A1CF  A2M  A2M-AS1  A2ML1  A4GALT  AA415398  \\\nGCTCTGTCAATGGATA   0.0       0.0   0.0  0.0      0.0    0.0     0.0       0.0   \nGATGAGGGTACGAAAT   0.0       0.0   0.0  0.0      0.0    0.0     0.0       0.0   \nAGGCCACGTACAGCAG   0.0       0.0   0.0  0.0      0.0    0.0     0.0       0.0   \nACGCCGAGTCACACGC   0.0       0.0   0.0  0.0      0.0    0.0     0.0       0.0   \nTCTTCGGAGGCTAGCA   0.0       0.0   0.0  0.0      0.0    0.0     0.0       0.0   \n...                ...       ...   ...  ...      ...    ...     ...       ...   \nACTGCTCCACTCGACG   0.0       0.0   0.0  0.0      0.0    0.0     0.0       0.0   \nTGGTTAGGTAAACGCG   0.0       0.0   0.0  0.0      0.0    0.0     0.0       0.0   \nTTCTCAATCAGTACGT   0.0       0.0   0.0  0.0      0.0    0.0     0.0       0.0   \nTGAGCCGGTCTCTTAT   0.0       0.0   0.0  0.0      0.0    0.0     0.0       0.0   \nAGGTCCGTCCATGCTC   0.0       0.0   0.0  0.0      0.0    0.0     0.0       0.0   \n\n                  AA465934  AA467197  ...  hsa-mir-3181  hsa-mir-335  \\\nGCTCTGTCAATGGATA       0.0       0.0  ...           0.0          0.0   \nGATGAGGGTACGAAAT       0.0       0.0  ...           0.0          0.0   \nAGGCCACGTACAGCAG       0.0       0.0  ...           0.0          0.0   \nACGCCGAGTCACACGC       0.0       0.0  ...           0.0          0.0   \nTCTTCGGAGGCTAGCA       0.0       0.0  ...           0.0          0.0   \n...                    ...       ...  ...           ...          ...   \nACTGCTCCACTCGACG       0.0       0.0  ...           0.0          0.0   \nTGGTTAGGTAAACGCG       0.0       0.0  ...           0.0          0.0   \nTTCTCAATCAGTACGT       0.0       0.0  ...           0.0          0.0   \nTGAGCCGGTCTCTTAT       0.0       0.0  ...           0.0          0.0   \nAGGTCCGTCCATGCTC       0.0       0.0  ...           0.0          0.0   \n\n                  hsa-mir-4259  hsa-mir-4537  hsa-mir-4538  hsa-mir-490  \\\nGCTCTGTCAATGGATA           0.0           0.0           0.0          0.0   \nGATGAGGGTACGAAAT           0.0           0.0           0.0          0.0   \nAGGCCACGTACAGCAG           0.0           0.0           0.0          0.0   \nACGCCGAGTCACACGC           0.0           0.0           0.0          0.0   \nTCTTCGGAGGCTAGCA           0.0           0.0           0.0          0.0   \n...                        ...           ...           ...          ...   \nACTGCTCCACTCGACG           0.0           0.0           0.0          0.0   \nTGGTTAGGTAAACGCG           0.0           0.0           0.0          0.0   \nTTCTCAATCAGTACGT           0.0           0.0           0.0          0.0   \nTGAGCCGGTCTCTTAT           0.0           0.0           0.0          0.0   \nAGGTCCGTCCATGCTC           0.0           0.0           0.0          0.0   \n\n                  hsa-mir-5195  hsa-mir-6080  hsa-mir-8072  snoU2-30  \nGCTCTGTCAATGGATA           0.0           0.0           0.0       0.0  \nGATGAGGGTACGAAAT           0.0           0.0           0.0       0.0  \nAGGCCACGTACAGCAG           0.0           0.0           0.0       0.0  \nACGCCGAGTCACACGC           0.0           0.0           0.0       0.0  \nTCTTCGGAGGCTAGCA           0.0           0.0           0.0       0.0  \n...                        ...           ...           ...       ...  \nACTGCTCCACTCGACG           0.0           0.0           0.0       0.0  \nTGGTTAGGTAAACGCG           0.0           0.0           0.0       0.0  \nTTCTCAATCAGTACGT           0.0           0.0           0.0       0.0  \nTGAGCCGGTCTCTTAT           0.0           0.0           0.0       0.0  \nAGGTCCGTCCATGCTC           0.0           0.0           0.0       0.0  \n\n[1000 rows x 25269 columns]",
      "text/html": "<div>\n<style scoped>\n    .dataframe tbody tr th:only-of-type {\n        vertical-align: middle;\n    }\n\n    .dataframe tbody tr th {\n        vertical-align: top;\n    }\n\n    .dataframe thead th {\n        text-align: right;\n    }\n</style>\n<table border=\"1\" class=\"dataframe\">\n  <thead>\n    <tr style=\"text-align: right;\">\n      <th></th>\n      <th>A1BG</th>\n      <th>A1BG-AS1</th>\n      <th>A1CF</th>\n      <th>A2M</th>\n      <th>A2M-AS1</th>\n      <th>A2ML1</th>\n      <th>A4GALT</th>\n      <th>AA415398</th>\n      <th>AA465934</th>\n      <th>AA467197</th>\n      <th>...</th>\n      <th>hsa-mir-3181</th>\n      <th>hsa-mir-335</th>\n      <th>hsa-mir-4259</th>\n      <th>hsa-mir-4537</th>\n      <th>hsa-mir-4538</th>\n      <th>hsa-mir-490</th>\n      <th>hsa-mir-5195</th>\n      <th>hsa-mir-6080</th>\n      <th>hsa-mir-8072</th>\n      <th>snoU2-30</th>\n    </tr>\n  </thead>\n  <tbody>\n    <tr>\n      <th>GCTCTGTCAATGGATA</th>\n      <td>0.0</td>\n      <td>0.0</td>\n      <td>0.0</td>\n      <td>0.0</td>\n      <td>0.0</td>\n      <td>0.0</td>\n      <td>0.0</td>\n      <td>0.0</td>\n      <td>0.0</td>\n      <td>0.0</td>\n      <td>...</td>\n      <td>0.0</td>\n      <td>0.0</td>\n      <td>0.0</td>\n      <td>0.0</td>\n      <td>0.0</td>\n      <td>0.0</td>\n      <td>0.0</td>\n      <td>0.0</td>\n      <td>0.0</td>\n      <td>0.0</td>\n    </tr>\n    <tr>\n      <th>GATGAGGGTACGAAAT</th>\n      <td>0.0</td>\n      <td>0.0</td>\n      <td>0.0</td>\n      <td>0.0</td>\n      <td>0.0</td>\n      <td>0.0</td>\n      <td>0.0</td>\n      <td>0.0</td>\n      <td>0.0</td>\n      <td>0.0</td>\n      <td>...</td>\n      <td>0.0</td>\n      <td>0.0</td>\n      <td>0.0</td>\n      <td>0.0</td>\n      <td>0.0</td>\n      <td>0.0</td>\n      <td>0.0</td>\n      <td>0.0</td>\n      <td>0.0</td>\n      <td>0.0</td>\n    </tr>\n    <tr>\n      <th>AGGCCACGTACAGCAG</th>\n      <td>0.0</td>\n      <td>0.0</td>\n      <td>0.0</td>\n      <td>0.0</td>\n      <td>0.0</td>\n      <td>0.0</td>\n      <td>0.0</td>\n      <td>0.0</td>\n      <td>0.0</td>\n      <td>0.0</td>\n      <td>...</td>\n      <td>0.0</td>\n      <td>0.0</td>\n      <td>0.0</td>\n      <td>0.0</td>\n      <td>0.0</td>\n      <td>0.0</td>\n      <td>0.0</td>\n      <td>0.0</td>\n      <td>0.0</td>\n      <td>0.0</td>\n    </tr>\n    <tr>\n      <th>ACGCCGAGTCACACGC</th>\n      <td>0.0</td>\n      <td>0.0</td>\n      <td>0.0</td>\n      <td>0.0</td>\n      <td>0.0</td>\n      <td>0.0</td>\n      <td>0.0</td>\n      <td>0.0</td>\n      <td>0.0</td>\n      <td>0.0</td>\n      <td>...</td>\n      <td>0.0</td>\n      <td>0.0</td>\n      <td>0.0</td>\n      <td>0.0</td>\n      <td>0.0</td>\n      <td>0.0</td>\n      <td>0.0</td>\n      <td>0.0</td>\n      <td>0.0</td>\n      <td>0.0</td>\n    </tr>\n    <tr>\n      <th>TCTTCGGAGGCTAGCA</th>\n      <td>0.0</td>\n      <td>0.0</td>\n      <td>0.0</td>\n      <td>0.0</td>\n      <td>0.0</td>\n      <td>0.0</td>\n      <td>0.0</td>\n      <td>0.0</td>\n      <td>0.0</td>\n      <td>0.0</td>\n      <td>...</td>\n      <td>0.0</td>\n      <td>0.0</td>\n      <td>0.0</td>\n      <td>0.0</td>\n      <td>0.0</td>\n      <td>0.0</td>\n      <td>0.0</td>\n      <td>0.0</td>\n      <td>0.0</td>\n      <td>0.0</td>\n    </tr>\n    <tr>\n      <th>...</th>\n      <td>...</td>\n      <td>...</td>\n      <td>...</td>\n      <td>...</td>\n      <td>...</td>\n      <td>...</td>\n      <td>...</td>\n      <td>...</td>\n      <td>...</td>\n      <td>...</td>\n      <td>...</td>\n      <td>...</td>\n      <td>...</td>\n      <td>...</td>\n      <td>...</td>\n      <td>...</td>\n      <td>...</td>\n      <td>...</td>\n      <td>...</td>\n      <td>...</td>\n      <td>...</td>\n    </tr>\n    <tr>\n      <th>ACTGCTCCACTCGACG</th>\n      <td>0.0</td>\n      <td>0.0</td>\n      <td>0.0</td>\n      <td>0.0</td>\n      <td>0.0</td>\n      <td>0.0</td>\n      <td>0.0</td>\n      <td>0.0</td>\n      <td>0.0</td>\n      <td>0.0</td>\n      <td>...</td>\n      <td>0.0</td>\n      <td>0.0</td>\n      <td>0.0</td>\n      <td>0.0</td>\n      <td>0.0</td>\n      <td>0.0</td>\n      <td>0.0</td>\n      <td>0.0</td>\n      <td>0.0</td>\n      <td>0.0</td>\n    </tr>\n    <tr>\n      <th>TGGTTAGGTAAACGCG</th>\n      <td>0.0</td>\n      <td>0.0</td>\n      <td>0.0</td>\n      <td>0.0</td>\n      <td>0.0</td>\n      <td>0.0</td>\n      <td>0.0</td>\n      <td>0.0</td>\n      <td>0.0</td>\n      <td>0.0</td>\n      <td>...</td>\n      <td>0.0</td>\n      <td>0.0</td>\n      <td>0.0</td>\n      <td>0.0</td>\n      <td>0.0</td>\n      <td>0.0</td>\n      <td>0.0</td>\n      <td>0.0</td>\n      <td>0.0</td>\n      <td>0.0</td>\n    </tr>\n    <tr>\n      <th>TTCTCAATCAGTACGT</th>\n      <td>0.0</td>\n      <td>0.0</td>\n      <td>0.0</td>\n      <td>0.0</td>\n      <td>0.0</td>\n      <td>0.0</td>\n      <td>0.0</td>\n      <td>0.0</td>\n      <td>0.0</td>\n      <td>0.0</td>\n      <td>...</td>\n      <td>0.0</td>\n      <td>0.0</td>\n      <td>0.0</td>\n      <td>0.0</td>\n      <td>0.0</td>\n      <td>0.0</td>\n      <td>0.0</td>\n      <td>0.0</td>\n      <td>0.0</td>\n      <td>0.0</td>\n    </tr>\n    <tr>\n      <th>TGAGCCGGTCTCTTAT</th>\n      <td>0.0</td>\n      <td>0.0</td>\n      <td>0.0</td>\n      <td>0.0</td>\n      <td>0.0</td>\n      <td>0.0</td>\n      <td>0.0</td>\n      <td>0.0</td>\n      <td>0.0</td>\n      <td>0.0</td>\n      <td>...</td>\n      <td>0.0</td>\n      <td>0.0</td>\n      <td>0.0</td>\n      <td>0.0</td>\n      <td>0.0</td>\n      <td>0.0</td>\n      <td>0.0</td>\n      <td>0.0</td>\n      <td>0.0</td>\n      <td>0.0</td>\n    </tr>\n    <tr>\n      <th>AGGTCCGTCCATGCTC</th>\n      <td>0.0</td>\n      <td>0.0</td>\n      <td>0.0</td>\n      <td>0.0</td>\n      <td>0.0</td>\n      <td>0.0</td>\n      <td>0.0</td>\n      <td>0.0</td>\n      <td>0.0</td>\n      <td>0.0</td>\n      <td>...</td>\n      <td>0.0</td>\n      <td>0.0</td>\n      <td>0.0</td>\n      <td>0.0</td>\n      <td>0.0</td>\n      <td>0.0</td>\n      <td>0.0</td>\n      <td>0.0</td>\n      <td>0.0</td>\n      <td>0.0</td>\n    </tr>\n  </tbody>\n</table>\n<p>1000 rows × 25269 columns</p>\n</div>"
     },
     "metadata": {},
     "output_type": "display_data"
    }
   ],
   "source": [
    "display(df_test.loc[list(df_train['UMIs'])])\n",
    "df_train2 = df_test.loc[list(df_train['UMIs'])].copy()#X_train\n",
    "#df_train2.to_csv('processing/X_train.csv',encoding = 'utf-8')"
   ],
   "metadata": {
    "collapsed": false,
    "pycharm": {
     "name": "#%%\n"
    }
   }
  },
  {
   "cell_type": "code",
   "execution_count": 54,
   "outputs": [
    {
     "name": "stdout",
     "output_type": "stream",
     "text": [
      "GCTCTGTCAATGGATA    522\n",
      "GATGAGGGTACGAAAT    593\n",
      "AGGCCACGTACAGCAG    334\n",
      "ACGCCGAGTCACACGC    219\n",
      "TCTTCGGAGGCTAGCA     42\n",
      "                   ... \n",
      "ACTGCTCCACTCGACG    424\n",
      "TGGTTAGGTAAACGCG    492\n",
      "TTCTCAATCAGTACGT    509\n",
      "TGAGCCGGTCTCTTAT    317\n",
      "AGGTCCGTCCATGCTC     64\n",
      "Length: 1000, dtype: int64\n",
      "<class 'pandas.core.series.Series'>\n"
     ]
    },
    {
     "data": {
      "text/plain": "                index  count\n357  AAGTCTGAGCGTCTAT   7459\n469  CATGACATCTATCGCC   6991\n309  AGATTGCGTTTGGGCC   6783\n129  GTCCTCATCCTTGGTC   6164\n376  AAGTCTGGTCGGGTCT   5957\n..                ...    ...\n710  GCTTGAACATGCCACG     34\n178  GGTGCGTCATCTGGTA     34\n195  CTCGAGGGTGAAGGCT     33\n802  GCGCAGTGTTGTGGAG     28\n834  TGGGAAGAGTCTCCTC     17\n\n[1000 rows x 2 columns]",
      "text/html": "<div>\n<style scoped>\n    .dataframe tbody tr th:only-of-type {\n        vertical-align: middle;\n    }\n\n    .dataframe tbody tr th {\n        vertical-align: top;\n    }\n\n    .dataframe thead th {\n        text-align: right;\n    }\n</style>\n<table border=\"1\" class=\"dataframe\">\n  <thead>\n    <tr style=\"text-align: right;\">\n      <th></th>\n      <th>index</th>\n      <th>count</th>\n    </tr>\n  </thead>\n  <tbody>\n    <tr>\n      <th>357</th>\n      <td>AAGTCTGAGCGTCTAT</td>\n      <td>7459</td>\n    </tr>\n    <tr>\n      <th>469</th>\n      <td>CATGACATCTATCGCC</td>\n      <td>6991</td>\n    </tr>\n    <tr>\n      <th>309</th>\n      <td>AGATTGCGTTTGGGCC</td>\n      <td>6783</td>\n    </tr>\n    <tr>\n      <th>129</th>\n      <td>GTCCTCATCCTTGGTC</td>\n      <td>6164</td>\n    </tr>\n    <tr>\n      <th>376</th>\n      <td>AAGTCTGGTCGGGTCT</td>\n      <td>5957</td>\n    </tr>\n    <tr>\n      <th>...</th>\n      <td>...</td>\n      <td>...</td>\n    </tr>\n    <tr>\n      <th>710</th>\n      <td>GCTTGAACATGCCACG</td>\n      <td>34</td>\n    </tr>\n    <tr>\n      <th>178</th>\n      <td>GGTGCGTCATCTGGTA</td>\n      <td>34</td>\n    </tr>\n    <tr>\n      <th>195</th>\n      <td>CTCGAGGGTGAAGGCT</td>\n      <td>33</td>\n    </tr>\n    <tr>\n      <th>802</th>\n      <td>GCGCAGTGTTGTGGAG</td>\n      <td>28</td>\n    </tr>\n    <tr>\n      <th>834</th>\n      <td>TGGGAAGAGTCTCCTC</td>\n      <td>17</td>\n    </tr>\n  </tbody>\n</table>\n<p>1000 rows × 2 columns</p>\n</div>"
     },
     "metadata": {},
     "output_type": "display_data"
    }
   ],
   "source": [
    "importlib.reload(mf)\n",
    "row_counts = df_train2.apply(lambda row: (row >= 1).sum(), axis=1)\n",
    "# 打印每一行中大于等于1的数的数量\n",
    "print(row_counts)\n",
    "print(type(row_counts))\n",
    "df_row_counts = mf.series_to_df(row_counts,'count')\n",
    "display(df_row_counts)"
   ],
   "metadata": {
    "collapsed": false,
    "pycharm": {
     "name": "#%%\n"
    }
   }
  },
  {
   "cell_type": "code",
   "execution_count": 55,
   "outputs": [
    {
     "data": {
      "text/plain": "                index  count\n357  AAGTCTGAGCGTCTAT   7459\n469  CATGACATCTATCGCC   6991\n309  AGATTGCGTTTGGGCC   6783\n129  GTCCTCATCCTTGGTC   6164\n376  AAGTCTGGTCGGGTCT   5957\n..                ...    ...\n710  GCTTGAACATGCCACG     34\n178  GGTGCGTCATCTGGTA     34\n195  CTCGAGGGTGAAGGCT     33\n802  GCGCAGTGTTGTGGAG     28\n834  TGGGAAGAGTCTCCTC     17\n\n[1000 rows x 2 columns]",
      "text/html": "<div>\n<style scoped>\n    .dataframe tbody tr th:only-of-type {\n        vertical-align: middle;\n    }\n\n    .dataframe tbody tr th {\n        vertical-align: top;\n    }\n\n    .dataframe thead th {\n        text-align: right;\n    }\n</style>\n<table border=\"1\" class=\"dataframe\">\n  <thead>\n    <tr style=\"text-align: right;\">\n      <th></th>\n      <th>index</th>\n      <th>count</th>\n    </tr>\n  </thead>\n  <tbody>\n    <tr>\n      <th>357</th>\n      <td>AAGTCTGAGCGTCTAT</td>\n      <td>7459</td>\n    </tr>\n    <tr>\n      <th>469</th>\n      <td>CATGACATCTATCGCC</td>\n      <td>6991</td>\n    </tr>\n    <tr>\n      <th>309</th>\n      <td>AGATTGCGTTTGGGCC</td>\n      <td>6783</td>\n    </tr>\n    <tr>\n      <th>129</th>\n      <td>GTCCTCATCCTTGGTC</td>\n      <td>6164</td>\n    </tr>\n    <tr>\n      <th>376</th>\n      <td>AAGTCTGGTCGGGTCT</td>\n      <td>5957</td>\n    </tr>\n    <tr>\n      <th>...</th>\n      <td>...</td>\n      <td>...</td>\n    </tr>\n    <tr>\n      <th>710</th>\n      <td>GCTTGAACATGCCACG</td>\n      <td>34</td>\n    </tr>\n    <tr>\n      <th>178</th>\n      <td>GGTGCGTCATCTGGTA</td>\n      <td>34</td>\n    </tr>\n    <tr>\n      <th>195</th>\n      <td>CTCGAGGGTGAAGGCT</td>\n      <td>33</td>\n    </tr>\n    <tr>\n      <th>802</th>\n      <td>GCGCAGTGTTGTGGAG</td>\n      <td>28</td>\n    </tr>\n    <tr>\n      <th>834</th>\n      <td>TGGGAAGAGTCTCCTC</td>\n      <td>17</td>\n    </tr>\n  </tbody>\n</table>\n<p>1000 rows × 2 columns</p>\n</div>"
     },
     "metadata": {},
     "output_type": "display_data"
    }
   ],
   "source": [
    "display(df_row_counts[df_row_counts['count']>=1])"
   ],
   "metadata": {
    "collapsed": false,
    "pycharm": {
     "name": "#%%\n"
    }
   }
  },
  {
   "cell_type": "code",
   "execution_count": 56,
   "outputs": [
    {
     "name": "stdout",
     "output_type": "stream",
     "text": [
      "finish2\n"
     ]
    }
   ],
   "source": [
    "print('finish2')"
   ],
   "metadata": {
    "collapsed": false,
    "pycharm": {
     "name": "#%%\n"
    }
   }
  },
  {
   "cell_type": "markdown",
   "source": [
    "df_test 归一化 → df_test = X_train + X_test\n",
    " 需要用到原始 test_data 格式"
   ],
   "metadata": {
    "collapsed": false,
    "pycharm": {
     "name": "#%% md\n"
    }
   }
  },
  {
   "cell_type": "code",
   "execution_count": 57,
   "outputs": [
    {
     "data": {
      "text/plain": "<21954x25269 sparse matrix of type '<class 'numpy.float64'>'\n\twith 11039225 stored elements in Compressed Sparse Column format>"
     },
     "metadata": {},
     "output_type": "display_data"
    },
    {
     "data": {
      "text/plain": "scipy.sparse._csc.csc_matrix"
     },
     "metadata": {},
     "output_type": "display_data"
    },
    {
     "data": {
      "text/plain": "array([[0.        , 0.        , 0.        , ..., 0.        , 0.01507565,\n        0.        ],\n       [0.        , 0.        , 0.        , ..., 0.        , 0.0067953 ,\n        0.        ],\n       [0.        , 0.        , 0.        , ..., 0.        , 0.00832283,\n        0.        ],\n       ...,\n       [0.        , 0.        , 0.        , ..., 0.        , 0.        ,\n        0.        ],\n       [0.        , 0.        , 0.        , ..., 0.        , 0.        ,\n        0.        ],\n       [0.        , 0.        , 0.        , ..., 0.        , 0.        ,\n        0.        ]])"
     },
     "metadata": {},
     "output_type": "display_data"
    },
    {
     "data": {
      "text/plain": "                  A1BG  A1BG-AS1  A1CF  A2M   A2M-AS1  A2ML1  A4GALT  \\\nAGAGCGAAGATCTGCT   0.0       0.0   0.0  0.0  0.000000    0.0     0.0   \nACATCAGTCTGACCTC   0.0       0.0   0.0  0.0  0.006795    0.0     0.0   \nTTCTCCTGTCCTGCTT   0.0       0.0   0.0  0.0  0.008323    0.0     0.0   \nGAAACTCTCATGTAGC   0.0       0.0   0.0  0.0  0.000000    0.0     0.0   \nCAGTCCTGTCTAGCCG   0.0       0.0   0.0  0.0  0.000000    0.0     0.0   \n...                ...       ...   ...  ...       ...    ...     ...   \nTTTATGCTCTTGTACT   0.0       0.0   0.0  0.0  0.000000    0.0     0.0   \nATAACGCCAAGCTGGA   0.0       0.0   0.0  0.0  0.000000    0.0     0.0   \nATTACTCAGTGGACGT   0.0       0.0   0.0  0.0  0.000000    0.0     0.0   \nCGTGTCTCAAGCGTAG   0.0       0.0   0.0  0.0  0.000000    0.0     0.0   \nCCGGGATCAATCGGTT   0.0       0.0   0.0  0.0  0.000000    0.0     0.0   \n\n                  AA415398  AA465934  AA467197  ...  hsa-mir-3181  \\\nAGAGCGAAGATCTGCT       0.0       0.0       0.0  ...           0.0   \nACATCAGTCTGACCTC       0.0       0.0       0.0  ...           0.0   \nTTCTCCTGTCCTGCTT       0.0       0.0       0.0  ...           0.0   \nGAAACTCTCATGTAGC       0.0       0.0       0.0  ...           0.0   \nCAGTCCTGTCTAGCCG       0.0       0.0       0.0  ...           0.0   \n...                    ...       ...       ...  ...           ...   \nTTTATGCTCTTGTACT       0.0       0.0       0.0  ...           0.0   \nATAACGCCAAGCTGGA       0.0       0.0       0.0  ...           0.0   \nATTACTCAGTGGACGT       0.0       0.0       0.0  ...           0.0   \nCGTGTCTCAAGCGTAG       0.0       0.0       0.0  ...           0.0   \nCCGGGATCAATCGGTT       0.0       0.0       0.0  ...           0.0   \n\n                  hsa-mir-335  hsa-mir-4259  hsa-mir-4537  hsa-mir-4538  \\\nAGAGCGAAGATCTGCT          0.0           0.0           0.0           0.0   \nACATCAGTCTGACCTC          0.0           0.0           0.0           0.0   \nTTCTCCTGTCCTGCTT          0.0           0.0           0.0           0.0   \nGAAACTCTCATGTAGC          0.0           0.0           0.0           0.0   \nCAGTCCTGTCTAGCCG          0.0           0.0           0.0           0.0   \n...                       ...           ...           ...           ...   \nTTTATGCTCTTGTACT          0.0           0.0           0.0           0.0   \nATAACGCCAAGCTGGA          0.0           0.0           0.0           0.0   \nATTACTCAGTGGACGT          0.0           0.0           0.0           0.0   \nCGTGTCTCAAGCGTAG          0.0           0.0           0.0           0.0   \nCCGGGATCAATCGGTT          0.0           0.0           0.0           0.0   \n\n                  hsa-mir-490  hsa-mir-5195  hsa-mir-6080  hsa-mir-8072  \\\nAGAGCGAAGATCTGCT          0.0           0.0           0.0      0.015076   \nACATCAGTCTGACCTC          0.0           0.0           0.0      0.006795   \nTTCTCCTGTCCTGCTT          0.0           0.0           0.0      0.008323   \nGAAACTCTCATGTAGC          0.0           0.0           0.0      0.016401   \nCAGTCCTGTCTAGCCG          0.0           0.0           0.0      0.000000   \n...                       ...           ...           ...           ...   \nTTTATGCTCTTGTACT          0.0           0.0           0.0      0.000000   \nATAACGCCAAGCTGGA          0.0           0.0           0.0      0.000000   \nATTACTCAGTGGACGT          0.0           0.0           0.0      0.000000   \nCGTGTCTCAAGCGTAG          0.0           0.0           0.0      0.000000   \nCCGGGATCAATCGGTT          0.0           0.0           0.0      0.000000   \n\n                  snoU2-30  \nAGAGCGAAGATCTGCT       0.0  \nACATCAGTCTGACCTC       0.0  \nTTCTCCTGTCCTGCTT       0.0  \nGAAACTCTCATGTAGC       0.0  \nCAGTCCTGTCTAGCCG       0.0  \n...                    ...  \nTTTATGCTCTTGTACT       0.0  \nATAACGCCAAGCTGGA       0.0  \nATTACTCAGTGGACGT       0.0  \nCGTGTCTCAAGCGTAG       0.0  \nCCGGGATCAATCGGTT       0.0  \n\n[21954 rows x 25269 columns]",
      "text/html": "<div>\n<style scoped>\n    .dataframe tbody tr th:only-of-type {\n        vertical-align: middle;\n    }\n\n    .dataframe tbody tr th {\n        vertical-align: top;\n    }\n\n    .dataframe thead th {\n        text-align: right;\n    }\n</style>\n<table border=\"1\" class=\"dataframe\">\n  <thead>\n    <tr style=\"text-align: right;\">\n      <th></th>\n      <th>A1BG</th>\n      <th>A1BG-AS1</th>\n      <th>A1CF</th>\n      <th>A2M</th>\n      <th>A2M-AS1</th>\n      <th>A2ML1</th>\n      <th>A4GALT</th>\n      <th>AA415398</th>\n      <th>AA465934</th>\n      <th>AA467197</th>\n      <th>...</th>\n      <th>hsa-mir-3181</th>\n      <th>hsa-mir-335</th>\n      <th>hsa-mir-4259</th>\n      <th>hsa-mir-4537</th>\n      <th>hsa-mir-4538</th>\n      <th>hsa-mir-490</th>\n      <th>hsa-mir-5195</th>\n      <th>hsa-mir-6080</th>\n      <th>hsa-mir-8072</th>\n      <th>snoU2-30</th>\n    </tr>\n  </thead>\n  <tbody>\n    <tr>\n      <th>AGAGCGAAGATCTGCT</th>\n      <td>0.0</td>\n      <td>0.0</td>\n      <td>0.0</td>\n      <td>0.0</td>\n      <td>0.000000</td>\n      <td>0.0</td>\n      <td>0.0</td>\n      <td>0.0</td>\n      <td>0.0</td>\n      <td>0.0</td>\n      <td>...</td>\n      <td>0.0</td>\n      <td>0.0</td>\n      <td>0.0</td>\n      <td>0.0</td>\n      <td>0.0</td>\n      <td>0.0</td>\n      <td>0.0</td>\n      <td>0.0</td>\n      <td>0.015076</td>\n      <td>0.0</td>\n    </tr>\n    <tr>\n      <th>ACATCAGTCTGACCTC</th>\n      <td>0.0</td>\n      <td>0.0</td>\n      <td>0.0</td>\n      <td>0.0</td>\n      <td>0.006795</td>\n      <td>0.0</td>\n      <td>0.0</td>\n      <td>0.0</td>\n      <td>0.0</td>\n      <td>0.0</td>\n      <td>...</td>\n      <td>0.0</td>\n      <td>0.0</td>\n      <td>0.0</td>\n      <td>0.0</td>\n      <td>0.0</td>\n      <td>0.0</td>\n      <td>0.0</td>\n      <td>0.0</td>\n      <td>0.006795</td>\n      <td>0.0</td>\n    </tr>\n    <tr>\n      <th>TTCTCCTGTCCTGCTT</th>\n      <td>0.0</td>\n      <td>0.0</td>\n      <td>0.0</td>\n      <td>0.0</td>\n      <td>0.008323</td>\n      <td>0.0</td>\n      <td>0.0</td>\n      <td>0.0</td>\n      <td>0.0</td>\n      <td>0.0</td>\n      <td>...</td>\n      <td>0.0</td>\n      <td>0.0</td>\n      <td>0.0</td>\n      <td>0.0</td>\n      <td>0.0</td>\n      <td>0.0</td>\n      <td>0.0</td>\n      <td>0.0</td>\n      <td>0.008323</td>\n      <td>0.0</td>\n    </tr>\n    <tr>\n      <th>GAAACTCTCATGTAGC</th>\n      <td>0.0</td>\n      <td>0.0</td>\n      <td>0.0</td>\n      <td>0.0</td>\n      <td>0.000000</td>\n      <td>0.0</td>\n      <td>0.0</td>\n      <td>0.0</td>\n      <td>0.0</td>\n      <td>0.0</td>\n      <td>...</td>\n      <td>0.0</td>\n      <td>0.0</td>\n      <td>0.0</td>\n      <td>0.0</td>\n      <td>0.0</td>\n      <td>0.0</td>\n      <td>0.0</td>\n      <td>0.0</td>\n      <td>0.016401</td>\n      <td>0.0</td>\n    </tr>\n    <tr>\n      <th>CAGTCCTGTCTAGCCG</th>\n      <td>0.0</td>\n      <td>0.0</td>\n      <td>0.0</td>\n      <td>0.0</td>\n      <td>0.000000</td>\n      <td>0.0</td>\n      <td>0.0</td>\n      <td>0.0</td>\n      <td>0.0</td>\n      <td>0.0</td>\n      <td>...</td>\n      <td>0.0</td>\n      <td>0.0</td>\n      <td>0.0</td>\n      <td>0.0</td>\n      <td>0.0</td>\n      <td>0.0</td>\n      <td>0.0</td>\n      <td>0.0</td>\n      <td>0.000000</td>\n      <td>0.0</td>\n    </tr>\n    <tr>\n      <th>...</th>\n      <td>...</td>\n      <td>...</td>\n      <td>...</td>\n      <td>...</td>\n      <td>...</td>\n      <td>...</td>\n      <td>...</td>\n      <td>...</td>\n      <td>...</td>\n      <td>...</td>\n      <td>...</td>\n      <td>...</td>\n      <td>...</td>\n      <td>...</td>\n      <td>...</td>\n      <td>...</td>\n      <td>...</td>\n      <td>...</td>\n      <td>...</td>\n      <td>...</td>\n      <td>...</td>\n    </tr>\n    <tr>\n      <th>TTTATGCTCTTGTACT</th>\n      <td>0.0</td>\n      <td>0.0</td>\n      <td>0.0</td>\n      <td>0.0</td>\n      <td>0.000000</td>\n      <td>0.0</td>\n      <td>0.0</td>\n      <td>0.0</td>\n      <td>0.0</td>\n      <td>0.0</td>\n      <td>...</td>\n      <td>0.0</td>\n      <td>0.0</td>\n      <td>0.0</td>\n      <td>0.0</td>\n      <td>0.0</td>\n      <td>0.0</td>\n      <td>0.0</td>\n      <td>0.0</td>\n      <td>0.000000</td>\n      <td>0.0</td>\n    </tr>\n    <tr>\n      <th>ATAACGCCAAGCTGGA</th>\n      <td>0.0</td>\n      <td>0.0</td>\n      <td>0.0</td>\n      <td>0.0</td>\n      <td>0.000000</td>\n      <td>0.0</td>\n      <td>0.0</td>\n      <td>0.0</td>\n      <td>0.0</td>\n      <td>0.0</td>\n      <td>...</td>\n      <td>0.0</td>\n      <td>0.0</td>\n      <td>0.0</td>\n      <td>0.0</td>\n      <td>0.0</td>\n      <td>0.0</td>\n      <td>0.0</td>\n      <td>0.0</td>\n      <td>0.000000</td>\n      <td>0.0</td>\n    </tr>\n    <tr>\n      <th>ATTACTCAGTGGACGT</th>\n      <td>0.0</td>\n      <td>0.0</td>\n      <td>0.0</td>\n      <td>0.0</td>\n      <td>0.000000</td>\n      <td>0.0</td>\n      <td>0.0</td>\n      <td>0.0</td>\n      <td>0.0</td>\n      <td>0.0</td>\n      <td>...</td>\n      <td>0.0</td>\n      <td>0.0</td>\n      <td>0.0</td>\n      <td>0.0</td>\n      <td>0.0</td>\n      <td>0.0</td>\n      <td>0.0</td>\n      <td>0.0</td>\n      <td>0.000000</td>\n      <td>0.0</td>\n    </tr>\n    <tr>\n      <th>CGTGTCTCAAGCGTAG</th>\n      <td>0.0</td>\n      <td>0.0</td>\n      <td>0.0</td>\n      <td>0.0</td>\n      <td>0.000000</td>\n      <td>0.0</td>\n      <td>0.0</td>\n      <td>0.0</td>\n      <td>0.0</td>\n      <td>0.0</td>\n      <td>...</td>\n      <td>0.0</td>\n      <td>0.0</td>\n      <td>0.0</td>\n      <td>0.0</td>\n      <td>0.0</td>\n      <td>0.0</td>\n      <td>0.0</td>\n      <td>0.0</td>\n      <td>0.000000</td>\n      <td>0.0</td>\n    </tr>\n    <tr>\n      <th>CCGGGATCAATCGGTT</th>\n      <td>0.0</td>\n      <td>0.0</td>\n      <td>0.0</td>\n      <td>0.0</td>\n      <td>0.000000</td>\n      <td>0.0</td>\n      <td>0.0</td>\n      <td>0.0</td>\n      <td>0.0</td>\n      <td>0.0</td>\n      <td>...</td>\n      <td>0.0</td>\n      <td>0.0</td>\n      <td>0.0</td>\n      <td>0.0</td>\n      <td>0.0</td>\n      <td>0.0</td>\n      <td>0.0</td>\n      <td>0.0</td>\n      <td>0.000000</td>\n      <td>0.0</td>\n    </tr>\n  </tbody>\n</table>\n<p>21954 rows × 25269 columns</p>\n</div>"
     },
     "metadata": {},
     "output_type": "display_data"
    },
    {
     "name": "stdout",
     "output_type": "stream",
     "text": [
      "CPU times: total: 19.7 s\n",
      "Wall time: 26.1 s\n"
     ]
    }
   ],
   "source": [
    "%%time\n",
    "test_norm = sc.pp.normalize_total(test_data, exclude_highly_expressed = False , inplace=False)['X']\n",
    "display(test_norm)\n",
    "display(type(test_norm))\n",
    "dense_test_norm = test_norm.toarray()#非零稀疏索引转为二维数组\n",
    "display(dense_test_norm)\n",
    "df_test_norm = pd.DataFrame(dense_test_norm, index=test_data.obs.index, columns=test_data.var.index).copy()\n",
    "display(df_test_norm)"
   ],
   "metadata": {
    "collapsed": false,
    "pycharm": {
     "name": "#%%\n"
    }
   }
  },
  {
   "cell_type": "markdown",
   "source": [
    "PCA降维，降维到50,details未知"
   ],
   "metadata": {
    "collapsed": false,
    "pycharm": {
     "name": "#%% md\n"
    }
   }
  },
  {
   "cell_type": "code",
   "execution_count": 58,
   "outputs": [
    {
     "data": {
      "text/plain": "array([[ 2.7636597 , -1.3241842 , 14.388162  , ...,  0.04198899,\n        -0.15336873, -0.35298958],\n       [ 6.394659  ,  0.8012573 , 14.412637  , ...,  0.3020041 ,\n        -1.1140212 ,  0.6212355 ],\n       [ 5.034913  ,  0.3228025 , 15.289363  , ...,  0.29057726,\n        -0.42864457,  0.5044053 ],\n       ...,\n       [ 4.8657236 , -0.7317507 , 12.288434  , ..., -2.513426  ,\n         1.2307168 ,  6.306153  ],\n       [-7.522014  ,  1.0591507 ,  6.462868  , ...,  7.9399366 ,\n         6.336762  , -5.4263906 ],\n       [-0.29170963,  9.750389  ,  2.7973833 , ..., -0.44656622,\n         0.49417102,  5.702416  ]], dtype=float32)"
     },
     "metadata": {},
     "output_type": "display_data"
    },
    {
     "data": {
      "text/plain": "(21954, 50)"
     },
     "metadata": {},
     "output_type": "display_data"
    },
    {
     "data": {
      "text/plain": "numpy.ndarray"
     },
     "metadata": {},
     "output_type": "display_data"
    },
    {
     "data": {
      "text/plain": "anndata._core.anndata.AnnData"
     },
     "metadata": {},
     "output_type": "display_data"
    },
    {
     "name": "stdout",
     "output_type": "stream",
     "text": [
      "(21954, 25269)\n",
      "CPU times: total: 15.5 s\n",
      "Wall time: 16.2 s\n"
     ]
    }
   ],
   "source": [
    "%%time\n",
    "from scipy.sparse import csc_matrix\n",
    "importlib.reload(mf)\n",
    "pca_test = sc.pp.pca(anndata.AnnData(X = test_norm), n_comps= 50, zero_center=True, copy = True, svd_solver='auto', random_state=42)\n",
    "display(pca_test.obsm['X_pca'])#※降维后50个维度的值（归一化后）\n",
    "display(pca_test.obsm['X_pca'].shape)\n",
    "display(type(pca_test.obsm['X_pca']))\n",
    "# display(pca_test.varm['PCs'])#降维后与原维度的关系\n",
    "# display(pca_test.varm['PCs'].shape)\n",
    "# display(pca_test.uns['pca']['variance_ratio'])#残差参数\n",
    "# display(pca_test.uns['pca']['variance_ratio'].shape)\n",
    "# display(pca_test.uns['pca']['variance'])#残差原值\n",
    "# display(pca_test.uns['pca']['variance'].shape)\n",
    "display(type(pca_test))\n",
    "print(pca_test.shape)#→copy=true的缘故"
   ],
   "metadata": {
    "collapsed": false,
    "pycharm": {
     "name": "#%%\n"
    }
   }
  },
  {
   "cell_type": "markdown",
   "source": [
    "纳入模型数据整理\n",
    "要求是归一化后的数据\n"
   ],
   "metadata": {
    "collapsed": false,
    "pycharm": {
     "name": "#%% md\n"
    }
   }
  },
  {
   "cell_type": "code",
   "execution_count": 59,
   "outputs": [
    {
     "name": "stdout",
     "output_type": "stream",
     "text": [
      "(1000, 50)\n",
      "(20954, 50)\n",
      "(1000,)\n"
     ]
    },
    {
     "data": {
      "text/plain": "                   UMIs  result\n0      AGAGCGAAGATCTGCT       0\n1      ACATCAGTCTGACCTC       0\n2      TTCTCCTGTCCTGCTT       0\n3      GAAACTCTCATGTAGC       0\n4      CAGTCCTGTCTAGCCG       0\n...                 ...     ...\n20949  TTTATGCTCTTGTACT       0\n20950  ATAACGCCAAGCTGGA       0\n20951  ATTACTCAGTGGACGT       0\n20952  CGTGTCTCAAGCGTAG       0\n20953  CCGGGATCAATCGGTT       0\n\n[20954 rows x 2 columns]",
      "text/html": "<div>\n<style scoped>\n    .dataframe tbody tr th:only-of-type {\n        vertical-align: middle;\n    }\n\n    .dataframe tbody tr th {\n        vertical-align: top;\n    }\n\n    .dataframe thead th {\n        text-align: right;\n    }\n</style>\n<table border=\"1\" class=\"dataframe\">\n  <thead>\n    <tr style=\"text-align: right;\">\n      <th></th>\n      <th>UMIs</th>\n      <th>result</th>\n    </tr>\n  </thead>\n  <tbody>\n    <tr>\n      <th>0</th>\n      <td>AGAGCGAAGATCTGCT</td>\n      <td>0</td>\n    </tr>\n    <tr>\n      <th>1</th>\n      <td>ACATCAGTCTGACCTC</td>\n      <td>0</td>\n    </tr>\n    <tr>\n      <th>2</th>\n      <td>TTCTCCTGTCCTGCTT</td>\n      <td>0</td>\n    </tr>\n    <tr>\n      <th>3</th>\n      <td>GAAACTCTCATGTAGC</td>\n      <td>0</td>\n    </tr>\n    <tr>\n      <th>4</th>\n      <td>CAGTCCTGTCTAGCCG</td>\n      <td>0</td>\n    </tr>\n    <tr>\n      <th>...</th>\n      <td>...</td>\n      <td>...</td>\n    </tr>\n    <tr>\n      <th>20949</th>\n      <td>TTTATGCTCTTGTACT</td>\n      <td>0</td>\n    </tr>\n    <tr>\n      <th>20950</th>\n      <td>ATAACGCCAAGCTGGA</td>\n      <td>0</td>\n    </tr>\n    <tr>\n      <th>20951</th>\n      <td>ATTACTCAGTGGACGT</td>\n      <td>0</td>\n    </tr>\n    <tr>\n      <th>20952</th>\n      <td>CGTGTCTCAAGCGTAG</td>\n      <td>0</td>\n    </tr>\n    <tr>\n      <th>20953</th>\n      <td>CCGGGATCAATCGGTT</td>\n      <td>0</td>\n    </tr>\n  </tbody>\n</table>\n<p>20954 rows × 2 columns</p>\n</div>"
     },
     "metadata": {},
     "output_type": "display_data"
    },
    {
     "name": "stdout",
     "output_type": "stream",
     "text": [
      "(20954,)\n",
      "CPU times: total: 781 ms\n",
      "Wall time: 850 ms\n"
     ]
    }
   ],
   "source": [
    "%%time\n",
    "#X_train --df_train2\n",
    "#思路，要在training.csv的UMIs找出其在test_data的行索引，后在pca_test中提取\n",
    "matching_indices = np.where(df_test.index.isin(df_train['UMIs']))[0]#array\n",
    "X_train = pca_test.obsm['X_pca'][matching_indices]\n",
    "X_train_ori = test_norm[matching_indices]\n",
    "#X_test --(df_test - df_train2) ,X_trian的补集\n",
    "X_test = pca_test.obsm['X_pca'][[i for i in range(len(df_test.index)) if i not in matching_indices]]\n",
    "X_test_ori = test_norm[[i for i in range(len(df_test.index)) if i not in matching_indices]]\n",
    "print(X_train.shape)\n",
    "print(X_test.shape)\n",
    "#y_train training.csv--y_train#需要一维数组\n",
    "y_train = df_train['result'].values\n",
    "print(y_train.shape)\n",
    "#y_test prediction.csv--y_test\n",
    "y_test = pd.read_csv(\"prediction/prediction.csv\",header=None).copy()\n",
    "y_test.columns = ['UMIs', 'result']\n",
    "display(y_test)\n",
    "y_test = y_test['result'].values\n",
    "print(y_test.shape)"
   ],
   "metadata": {
    "collapsed": false,
    "pycharm": {
     "name": "#%%\n"
    }
   }
  },
  {
   "cell_type": "markdown",
   "source": [
    "跑模型，随机森林为例 文件 myRF"
   ],
   "metadata": {
    "collapsed": false,
    "pycharm": {
     "name": "#%% md\n"
    }
   }
  },
  {
   "cell_type": "code",
   "execution_count": 64,
   "outputs": [
    {
     "name": "stderr",
     "output_type": "stream",
     "text": [
      "D:\\Hackathon-Summer-2023\\my_RF.py:58: RuntimeWarning: invalid value encountered in divide\n",
      "  f1_scores = 2 * (precision * recall) / (precision + recall)\n"
     ]
    },
    {
     "name": "stdout",
     "output_type": "stream",
     "text": [
      "[15:42:03] WARNING: C:\\buildkite-agent\\builds\\buildkite-windows-cpu-autoscaling-group-i-0fdc6d574b9c0d168-1\\xgboost\\xgboost-ci-windows\\src\\learner.cc:767: \n",
      "Parameters: { \"max_samples\" } are not used.\n",
      "\n",
      "0.0\n",
      "-0.10264482299902934\n",
      "-0.02555352081916642\n",
      "-0.03622927869271666\n",
      "CPU times: total: 1min 45s\n",
      "Wall time: 1min 51s\n"
     ]
    }
   ],
   "source": [
    "%%time\n",
    "import my_RF as mr\n",
    "importlib.reload(mr)\n",
    "mcc0 =  mr.rf(X=None,y=None,mode='test',X_train=X_train, X_test=None, y_train=y_train, y_test=None,pattern = 0,fund = 20)#0或1 ，看那个结果好\n",
    "_,mcc1 = mr.rf(X=None,y=None,mode='test',X_train=X_train, X_test=None, y_train=y_train, y_test=None,pattern = 1,fund = 20)#0或1 ，看那个结果好\n",
    "mcc3 = mr.gbdt(X=None,y=None,mode='test',X_train=X_train, X_test=None, y_train=y_train, y_test=None,pattern = 0,fund = 20)\n",
    "mcc4 = mr.xgboost(X=None,y=None,mode='test',X_train=X_train, X_test=None, y_train=y_train, y_test=None,pattern = 0,fund = 20)\n",
    "print(mcc0)\n",
    "print(mcc1)\n",
    "print(mcc3)\n",
    "print(mcc4)"
   ],
   "metadata": {
    "collapsed": false,
    "pycharm": {
     "name": "#%%\n"
    }
   }
  },
  {
   "cell_type": "code",
   "execution_count": 61,
   "outputs": [],
   "source": [
    "# %%time\n",
    "# importlib.reload(mr)\n",
    "# mcc0 =  mr.rf(X=None,y=None,mode='train',X_train=X_train_ori, X_test=X_test_ori, y_train=y_train, y_test=y_test,pattern = 0)#0或1 ，看那个结果好\n",
    "# _,mcc1 = mr.rf(X=None,y=None,mode='train',X_train=X_train_ori, X_test=X_test_ori, y_train=y_train, y_test=y_test,pattern = 1)#0或1 ，看那个结果好\n",
    "# mcc3 = mr.gbdt(X=None,y=None,mode='train',X_train=X_train_ori, X_test=X_test_ori, y_train=y_train, y_test=y_test,pattern = 0)\n",
    "# print(mcc0)\n",
    "# print(mcc1)\n",
    "# print(mcc3)"
   ],
   "metadata": {
    "collapsed": false,
    "pycharm": {
     "name": "#%%\n"
    }
   }
  },
  {
   "cell_type": "markdown",
   "source": [
    "循环筛选"
   ],
   "metadata": {
    "collapsed": false,
    "pycharm": {
     "name": "#%% md\n"
    }
   }
  },
  {
   "cell_type": "code",
   "execution_count": 62,
   "outputs": [
    {
     "name": "stdout",
     "output_type": "stream",
     "text": [
      "CPU times: total: 0 ns\n",
      "Wall time: 999 µs\n"
     ]
    }
   ],
   "source": [
    "%%time\n",
    "import random\n",
    "def loop_screen():\n",
    "    r_list = []\n",
    "    fund_list = []\n",
    "    n_list = []\n",
    "    importlib.reload(mf)\n",
    "    import my_RF as mr\n",
    "    importlib.reload(mr)\n",
    "    n = 1\n",
    "    flag = True\n",
    "    while flag:\n",
    "        random_integer = random.randint(10, 40)\n",
    "        fund = random_integer\n",
    "        pca_test = sc.pp.pca(anndata.AnnData(X = test_norm), n_comps= n, zero_center=True, copy = True, svd_solver='auto', random_state= 42)\n",
    "        X_train = pca_test.obsm['X_pca'][matching_indices]\n",
    "        X_test = pca_test.obsm['X_pca'][[i for i in range(len(df_test.index)) if i not in matching_indices]]\n",
    "        mcc1 =  mr.rf(X=None,y=None,mode='train',X_train=X_train, X_test=X_test, y_train=y_train, y_test=y_test,pattern = 0, fund = fund)#0或1 ，看那个结果好\n",
    "        mcc2 = mr.gbdt(X=None,y=None,mode='train',X_train=X_train, X_test=X_test, y_train=y_train, y_test=y_test,pattern = 0, fund = fund)\n",
    "        mcc3 = mr.xgboost(X=None,y=None,mode='train',X_train=X_train, X_test=X_test, y_train=y_train, y_test=y_test,pattern = 0, fund = fund)\n",
    "        final_mcc = max([mcc1,mcc2,mcc3])\n",
    "        final_idx = ([mcc1,mcc2,mcc3].index(final_mcc))\n",
    "        if final_idx ==0:\n",
    "            r = mcc1\n",
    "        elif final_idx ==1:\n",
    "            r = mcc2\n",
    "        else:\n",
    "            r = mcc3\n",
    "        if r > 0.01:\n",
    "            r_list.append(r)\n",
    "            fund_list.append(fund)\n",
    "            n_list.append(n)\n",
    "            r_df  = pd.DataFrame({'r':r_list,'fund':fund_list,'n':n_list})\n",
    "            print(r_df)\n",
    "            return r_df\n",
    "        n += 1\n",
    "    print('finish')"
   ],
   "metadata": {
    "collapsed": false,
    "pycharm": {
     "name": "#%%\n"
    }
   }
  },
  {
   "cell_type": "code",
   "execution_count": 63,
   "outputs": [
    {
     "ename": "ValueError",
     "evalue": "y contains 1 class after sample_weight trimmed classes with zero weights, while a minimum of 2 classes are required.",
     "output_type": "error",
     "traceback": [
      "\u001B[1;31m---------------------------------------------------------------------------\u001B[0m",
      "\u001B[1;31mValueError\u001B[0m                                Traceback (most recent call last)",
      "File \u001B[1;32m<timed exec>:1\u001B[0m\n",
      "File \u001B[1;32m<timed exec>:18\u001B[0m, in \u001B[0;36mloop_screen\u001B[1;34m()\u001B[0m\n",
      "File \u001B[1;32mD:\\Hackathon-Summer-2023\\my_RF.py:91\u001B[0m, in \u001B[0;36mgbdt\u001B[1;34m(X, y, mode, X_train, X_test, y_train, y_test, pattern, fund)\u001B[0m\n\u001B[0;32m     88\u001B[0m clf \u001B[38;5;241m=\u001B[39m BaggingClassifier(dt, n_estimators\u001B[38;5;241m=\u001B[39m fund, max_samples\u001B[38;5;241m=\u001B[39m\u001B[38;5;241m1\u001B[39m, random_state\u001B[38;5;241m=\u001B[39m\u001B[38;5;241m42\u001B[39m)\n\u001B[0;32m     90\u001B[0m \u001B[38;5;66;03m# 训练模型\u001B[39;00m\n\u001B[1;32m---> 91\u001B[0m \u001B[43mclf\u001B[49m\u001B[38;5;241;43m.\u001B[39;49m\u001B[43mfit\u001B[49m\u001B[43m(\u001B[49m\u001B[43mX_train\u001B[49m\u001B[43m,\u001B[49m\u001B[43m \u001B[49m\u001B[43my_train\u001B[49m\u001B[43m)\u001B[49m\n\u001B[0;32m     93\u001B[0m \u001B[38;5;66;03m# 使用测试集进行预测\u001B[39;00m\n\u001B[0;32m     94\u001B[0m y_pred_proba \u001B[38;5;241m=\u001B[39m clf\u001B[38;5;241m.\u001B[39mpredict_proba(X_test)[:, \u001B[38;5;241m1\u001B[39m]\n",
      "File \u001B[1;32mD:\\JIBI\\pycharm笔记相关\\venv\\lib\\site-packages\\sklearn\\base.py:1151\u001B[0m, in \u001B[0;36m_fit_context.<locals>.decorator.<locals>.wrapper\u001B[1;34m(estimator, *args, **kwargs)\u001B[0m\n\u001B[0;32m   1144\u001B[0m     estimator\u001B[38;5;241m.\u001B[39m_validate_params()\n\u001B[0;32m   1146\u001B[0m \u001B[38;5;28;01mwith\u001B[39;00m config_context(\n\u001B[0;32m   1147\u001B[0m     skip_parameter_validation\u001B[38;5;241m=\u001B[39m(\n\u001B[0;32m   1148\u001B[0m         prefer_skip_nested_validation \u001B[38;5;129;01mor\u001B[39;00m global_skip_validation\n\u001B[0;32m   1149\u001B[0m     )\n\u001B[0;32m   1150\u001B[0m ):\n\u001B[1;32m-> 1151\u001B[0m     \u001B[38;5;28;01mreturn\u001B[39;00m fit_method(estimator, \u001B[38;5;241m*\u001B[39margs, \u001B[38;5;241m*\u001B[39m\u001B[38;5;241m*\u001B[39mkwargs)\n",
      "File \u001B[1;32mD:\\JIBI\\pycharm笔记相关\\venv\\lib\\site-packages\\sklearn\\ensemble\\_bagging.py:338\u001B[0m, in \u001B[0;36mBaseBagging.fit\u001B[1;34m(self, X, y, sample_weight)\u001B[0m\n\u001B[0;32m    329\u001B[0m \u001B[38;5;66;03m# Convert data (X is required to be 2d and indexable)\u001B[39;00m\n\u001B[0;32m    330\u001B[0m X, y \u001B[38;5;241m=\u001B[39m \u001B[38;5;28mself\u001B[39m\u001B[38;5;241m.\u001B[39m_validate_data(\n\u001B[0;32m    331\u001B[0m     X,\n\u001B[0;32m    332\u001B[0m     y,\n\u001B[1;32m   (...)\u001B[0m\n\u001B[0;32m    336\u001B[0m     multi_output\u001B[38;5;241m=\u001B[39m\u001B[38;5;28;01mTrue\u001B[39;00m,\n\u001B[0;32m    337\u001B[0m )\n\u001B[1;32m--> 338\u001B[0m \u001B[38;5;28;01mreturn\u001B[39;00m \u001B[38;5;28;43mself\u001B[39;49m\u001B[38;5;241;43m.\u001B[39;49m\u001B[43m_fit\u001B[49m\u001B[43m(\u001B[49m\u001B[43mX\u001B[49m\u001B[43m,\u001B[49m\u001B[43m \u001B[49m\u001B[43my\u001B[49m\u001B[43m,\u001B[49m\u001B[43m \u001B[49m\u001B[38;5;28;43mself\u001B[39;49m\u001B[38;5;241;43m.\u001B[39;49m\u001B[43mmax_samples\u001B[49m\u001B[43m,\u001B[49m\u001B[43m \u001B[49m\u001B[43msample_weight\u001B[49m\u001B[38;5;241;43m=\u001B[39;49m\u001B[43msample_weight\u001B[49m\u001B[43m)\u001B[49m\n",
      "File \u001B[1;32mD:\\JIBI\\pycharm笔记相关\\venv\\lib\\site-packages\\sklearn\\ensemble\\_bagging.py:473\u001B[0m, in \u001B[0;36mBaseBagging._fit\u001B[1;34m(self, X, y, max_samples, max_depth, sample_weight, check_input)\u001B[0m\n\u001B[0;32m    470\u001B[0m seeds \u001B[38;5;241m=\u001B[39m random_state\u001B[38;5;241m.\u001B[39mrandint(MAX_INT, size\u001B[38;5;241m=\u001B[39mn_more_estimators)\n\u001B[0;32m    471\u001B[0m \u001B[38;5;28mself\u001B[39m\u001B[38;5;241m.\u001B[39m_seeds \u001B[38;5;241m=\u001B[39m seeds\n\u001B[1;32m--> 473\u001B[0m all_results \u001B[38;5;241m=\u001B[39m \u001B[43mParallel\u001B[49m\u001B[43m(\u001B[49m\n\u001B[0;32m    474\u001B[0m \u001B[43m    \u001B[49m\u001B[43mn_jobs\u001B[49m\u001B[38;5;241;43m=\u001B[39;49m\u001B[43mn_jobs\u001B[49m\u001B[43m,\u001B[49m\u001B[43m \u001B[49m\u001B[43mverbose\u001B[49m\u001B[38;5;241;43m=\u001B[39;49m\u001B[38;5;28;43mself\u001B[39;49m\u001B[38;5;241;43m.\u001B[39;49m\u001B[43mverbose\u001B[49m\u001B[43m,\u001B[49m\u001B[43m \u001B[49m\u001B[38;5;241;43m*\u001B[39;49m\u001B[38;5;241;43m*\u001B[39;49m\u001B[38;5;28;43mself\u001B[39;49m\u001B[38;5;241;43m.\u001B[39;49m\u001B[43m_parallel_args\u001B[49m\u001B[43m(\u001B[49m\u001B[43m)\u001B[49m\n\u001B[0;32m    475\u001B[0m \u001B[43m\u001B[49m\u001B[43m)\u001B[49m\u001B[43m(\u001B[49m\n\u001B[0;32m    476\u001B[0m \u001B[43m    \u001B[49m\u001B[43mdelayed\u001B[49m\u001B[43m(\u001B[49m\u001B[43m_parallel_build_estimators\u001B[49m\u001B[43m)\u001B[49m\u001B[43m(\u001B[49m\n\u001B[0;32m    477\u001B[0m \u001B[43m        \u001B[49m\u001B[43mn_estimators\u001B[49m\u001B[43m[\u001B[49m\u001B[43mi\u001B[49m\u001B[43m]\u001B[49m\u001B[43m,\u001B[49m\n\u001B[0;32m    478\u001B[0m \u001B[43m        \u001B[49m\u001B[38;5;28;43mself\u001B[39;49m\u001B[43m,\u001B[49m\n\u001B[0;32m    479\u001B[0m \u001B[43m        \u001B[49m\u001B[43mX\u001B[49m\u001B[43m,\u001B[49m\n\u001B[0;32m    480\u001B[0m \u001B[43m        \u001B[49m\u001B[43my\u001B[49m\u001B[43m,\u001B[49m\n\u001B[0;32m    481\u001B[0m \u001B[43m        \u001B[49m\u001B[43msample_weight\u001B[49m\u001B[43m,\u001B[49m\n\u001B[0;32m    482\u001B[0m \u001B[43m        \u001B[49m\u001B[43mseeds\u001B[49m\u001B[43m[\u001B[49m\u001B[43mstarts\u001B[49m\u001B[43m[\u001B[49m\u001B[43mi\u001B[49m\u001B[43m]\u001B[49m\u001B[43m \u001B[49m\u001B[43m:\u001B[49m\u001B[43m \u001B[49m\u001B[43mstarts\u001B[49m\u001B[43m[\u001B[49m\u001B[43mi\u001B[49m\u001B[43m \u001B[49m\u001B[38;5;241;43m+\u001B[39;49m\u001B[43m \u001B[49m\u001B[38;5;241;43m1\u001B[39;49m\u001B[43m]\u001B[49m\u001B[43m]\u001B[49m\u001B[43m,\u001B[49m\n\u001B[0;32m    483\u001B[0m \u001B[43m        \u001B[49m\u001B[43mtotal_n_estimators\u001B[49m\u001B[43m,\u001B[49m\n\u001B[0;32m    484\u001B[0m \u001B[43m        \u001B[49m\u001B[43mverbose\u001B[49m\u001B[38;5;241;43m=\u001B[39;49m\u001B[38;5;28;43mself\u001B[39;49m\u001B[38;5;241;43m.\u001B[39;49m\u001B[43mverbose\u001B[49m\u001B[43m,\u001B[49m\n\u001B[0;32m    485\u001B[0m \u001B[43m        \u001B[49m\u001B[43mcheck_input\u001B[49m\u001B[38;5;241;43m=\u001B[39;49m\u001B[43mcheck_input\u001B[49m\u001B[43m,\u001B[49m\n\u001B[0;32m    486\u001B[0m \u001B[43m    \u001B[49m\u001B[43m)\u001B[49m\n\u001B[0;32m    487\u001B[0m \u001B[43m    \u001B[49m\u001B[38;5;28;43;01mfor\u001B[39;49;00m\u001B[43m \u001B[49m\u001B[43mi\u001B[49m\u001B[43m \u001B[49m\u001B[38;5;129;43;01min\u001B[39;49;00m\u001B[43m \u001B[49m\u001B[38;5;28;43mrange\u001B[39;49m\u001B[43m(\u001B[49m\u001B[43mn_jobs\u001B[49m\u001B[43m)\u001B[49m\n\u001B[0;32m    488\u001B[0m \u001B[43m\u001B[49m\u001B[43m)\u001B[49m\n\u001B[0;32m    490\u001B[0m \u001B[38;5;66;03m# Reduce\u001B[39;00m\n\u001B[0;32m    491\u001B[0m \u001B[38;5;28mself\u001B[39m\u001B[38;5;241m.\u001B[39mestimators_ \u001B[38;5;241m+\u001B[39m\u001B[38;5;241m=\u001B[39m \u001B[38;5;28mlist\u001B[39m(\n\u001B[0;32m    492\u001B[0m     itertools\u001B[38;5;241m.\u001B[39mchain\u001B[38;5;241m.\u001B[39mfrom_iterable(t[\u001B[38;5;241m0\u001B[39m] \u001B[38;5;28;01mfor\u001B[39;00m t \u001B[38;5;129;01min\u001B[39;00m all_results)\n\u001B[0;32m    493\u001B[0m )\n",
      "File \u001B[1;32mD:\\JIBI\\pycharm笔记相关\\venv\\lib\\site-packages\\sklearn\\utils\\parallel.py:65\u001B[0m, in \u001B[0;36mParallel.__call__\u001B[1;34m(self, iterable)\u001B[0m\n\u001B[0;32m     60\u001B[0m config \u001B[38;5;241m=\u001B[39m get_config()\n\u001B[0;32m     61\u001B[0m iterable_with_config \u001B[38;5;241m=\u001B[39m (\n\u001B[0;32m     62\u001B[0m     (_with_config(delayed_func, config), args, kwargs)\n\u001B[0;32m     63\u001B[0m     \u001B[38;5;28;01mfor\u001B[39;00m delayed_func, args, kwargs \u001B[38;5;129;01min\u001B[39;00m iterable\n\u001B[0;32m     64\u001B[0m )\n\u001B[1;32m---> 65\u001B[0m \u001B[38;5;28;01mreturn\u001B[39;00m \u001B[38;5;28;43msuper\u001B[39;49m\u001B[43m(\u001B[49m\u001B[43m)\u001B[49m\u001B[38;5;241;43m.\u001B[39;49m\u001B[38;5;21;43m__call__\u001B[39;49m\u001B[43m(\u001B[49m\u001B[43miterable_with_config\u001B[49m\u001B[43m)\u001B[49m\n",
      "File \u001B[1;32mD:\\JIBI\\pycharm笔记相关\\venv\\lib\\site-packages\\joblib\\parallel.py:1863\u001B[0m, in \u001B[0;36mParallel.__call__\u001B[1;34m(self, iterable)\u001B[0m\n\u001B[0;32m   1861\u001B[0m     output \u001B[38;5;241m=\u001B[39m \u001B[38;5;28mself\u001B[39m\u001B[38;5;241m.\u001B[39m_get_sequential_output(iterable)\n\u001B[0;32m   1862\u001B[0m     \u001B[38;5;28mnext\u001B[39m(output)\n\u001B[1;32m-> 1863\u001B[0m     \u001B[38;5;28;01mreturn\u001B[39;00m output \u001B[38;5;28;01mif\u001B[39;00m \u001B[38;5;28mself\u001B[39m\u001B[38;5;241m.\u001B[39mreturn_generator \u001B[38;5;28;01melse\u001B[39;00m \u001B[38;5;28;43mlist\u001B[39;49m\u001B[43m(\u001B[49m\u001B[43moutput\u001B[49m\u001B[43m)\u001B[49m\n\u001B[0;32m   1865\u001B[0m \u001B[38;5;66;03m# Let's create an ID that uniquely identifies the current call. If the\u001B[39;00m\n\u001B[0;32m   1866\u001B[0m \u001B[38;5;66;03m# call is interrupted early and that the same instance is immediately\u001B[39;00m\n\u001B[0;32m   1867\u001B[0m \u001B[38;5;66;03m# re-used, this id will be used to prevent workers that were\u001B[39;00m\n\u001B[0;32m   1868\u001B[0m \u001B[38;5;66;03m# concurrently finalizing a task from the previous call to run the\u001B[39;00m\n\u001B[0;32m   1869\u001B[0m \u001B[38;5;66;03m# callback.\u001B[39;00m\n\u001B[0;32m   1870\u001B[0m \u001B[38;5;28;01mwith\u001B[39;00m \u001B[38;5;28mself\u001B[39m\u001B[38;5;241m.\u001B[39m_lock:\n",
      "File \u001B[1;32mD:\\JIBI\\pycharm笔记相关\\venv\\lib\\site-packages\\joblib\\parallel.py:1792\u001B[0m, in \u001B[0;36mParallel._get_sequential_output\u001B[1;34m(self, iterable)\u001B[0m\n\u001B[0;32m   1790\u001B[0m \u001B[38;5;28mself\u001B[39m\u001B[38;5;241m.\u001B[39mn_dispatched_batches \u001B[38;5;241m+\u001B[39m\u001B[38;5;241m=\u001B[39m \u001B[38;5;241m1\u001B[39m\n\u001B[0;32m   1791\u001B[0m \u001B[38;5;28mself\u001B[39m\u001B[38;5;241m.\u001B[39mn_dispatched_tasks \u001B[38;5;241m+\u001B[39m\u001B[38;5;241m=\u001B[39m \u001B[38;5;241m1\u001B[39m\n\u001B[1;32m-> 1792\u001B[0m res \u001B[38;5;241m=\u001B[39m func(\u001B[38;5;241m*\u001B[39margs, \u001B[38;5;241m*\u001B[39m\u001B[38;5;241m*\u001B[39mkwargs)\n\u001B[0;32m   1793\u001B[0m \u001B[38;5;28mself\u001B[39m\u001B[38;5;241m.\u001B[39mn_completed_tasks \u001B[38;5;241m+\u001B[39m\u001B[38;5;241m=\u001B[39m \u001B[38;5;241m1\u001B[39m\n\u001B[0;32m   1794\u001B[0m \u001B[38;5;28mself\u001B[39m\u001B[38;5;241m.\u001B[39mprint_progress()\n",
      "File \u001B[1;32mD:\\JIBI\\pycharm笔记相关\\venv\\lib\\site-packages\\sklearn\\utils\\parallel.py:127\u001B[0m, in \u001B[0;36m_FuncWrapper.__call__\u001B[1;34m(self, *args, **kwargs)\u001B[0m\n\u001B[0;32m    125\u001B[0m     config \u001B[38;5;241m=\u001B[39m {}\n\u001B[0;32m    126\u001B[0m \u001B[38;5;28;01mwith\u001B[39;00m config_context(\u001B[38;5;241m*\u001B[39m\u001B[38;5;241m*\u001B[39mconfig):\n\u001B[1;32m--> 127\u001B[0m     \u001B[38;5;28;01mreturn\u001B[39;00m \u001B[38;5;28mself\u001B[39m\u001B[38;5;241m.\u001B[39mfunction(\u001B[38;5;241m*\u001B[39margs, \u001B[38;5;241m*\u001B[39m\u001B[38;5;241m*\u001B[39mkwargs)\n",
      "File \u001B[1;32mD:\\JIBI\\pycharm笔记相关\\venv\\lib\\site-packages\\sklearn\\ensemble\\_bagging.py:141\u001B[0m, in \u001B[0;36m_parallel_build_estimators\u001B[1;34m(n_estimators, ensemble, X, y, sample_weight, seeds, total_n_estimators, verbose, check_input)\u001B[0m\n\u001B[0;32m    138\u001B[0m         curr_sample_weight[not_indices_mask] \u001B[38;5;241m=\u001B[39m \u001B[38;5;241m0\u001B[39m\n\u001B[0;32m    140\u001B[0m     X_ \u001B[38;5;241m=\u001B[39m X[:, features] \u001B[38;5;28;01mif\u001B[39;00m requires_feature_indexing \u001B[38;5;28;01melse\u001B[39;00m X\n\u001B[1;32m--> 141\u001B[0m     \u001B[43mestimator_fit\u001B[49m\u001B[43m(\u001B[49m\u001B[43mX_\u001B[49m\u001B[43m,\u001B[49m\u001B[43m \u001B[49m\u001B[43my\u001B[49m\u001B[43m,\u001B[49m\u001B[43m \u001B[49m\u001B[43msample_weight\u001B[49m\u001B[38;5;241;43m=\u001B[39;49m\u001B[43mcurr_sample_weight\u001B[49m\u001B[43m)\u001B[49m\n\u001B[0;32m    142\u001B[0m \u001B[38;5;28;01melse\u001B[39;00m:\n\u001B[0;32m    143\u001B[0m     X_ \u001B[38;5;241m=\u001B[39m X[indices][:, features] \u001B[38;5;28;01mif\u001B[39;00m requires_feature_indexing \u001B[38;5;28;01melse\u001B[39;00m X[indices]\n",
      "File \u001B[1;32mD:\\JIBI\\pycharm笔记相关\\venv\\lib\\site-packages\\sklearn\\base.py:1151\u001B[0m, in \u001B[0;36m_fit_context.<locals>.decorator.<locals>.wrapper\u001B[1;34m(estimator, *args, **kwargs)\u001B[0m\n\u001B[0;32m   1144\u001B[0m     estimator\u001B[38;5;241m.\u001B[39m_validate_params()\n\u001B[0;32m   1146\u001B[0m \u001B[38;5;28;01mwith\u001B[39;00m config_context(\n\u001B[0;32m   1147\u001B[0m     skip_parameter_validation\u001B[38;5;241m=\u001B[39m(\n\u001B[0;32m   1148\u001B[0m         prefer_skip_nested_validation \u001B[38;5;129;01mor\u001B[39;00m global_skip_validation\n\u001B[0;32m   1149\u001B[0m     )\n\u001B[0;32m   1150\u001B[0m ):\n\u001B[1;32m-> 1151\u001B[0m     \u001B[38;5;28;01mreturn\u001B[39;00m fit_method(estimator, \u001B[38;5;241m*\u001B[39margs, \u001B[38;5;241m*\u001B[39m\u001B[38;5;241m*\u001B[39mkwargs)\n",
      "File \u001B[1;32mD:\\JIBI\\pycharm笔记相关\\venv\\lib\\site-packages\\sklearn\\ensemble\\_gb.py:427\u001B[0m, in \u001B[0;36mBaseGradientBoosting.fit\u001B[1;34m(self, X, y, sample_weight, monitor)\u001B[0m\n\u001B[0;32m    424\u001B[0m y \u001B[38;5;241m=\u001B[39m column_or_1d(y, warn\u001B[38;5;241m=\u001B[39m\u001B[38;5;28;01mTrue\u001B[39;00m)\n\u001B[0;32m    426\u001B[0m \u001B[38;5;28;01mif\u001B[39;00m is_classifier(\u001B[38;5;28mself\u001B[39m):\n\u001B[1;32m--> 427\u001B[0m     y \u001B[38;5;241m=\u001B[39m \u001B[38;5;28;43mself\u001B[39;49m\u001B[38;5;241;43m.\u001B[39;49m\u001B[43m_validate_y\u001B[49m\u001B[43m(\u001B[49m\u001B[43my\u001B[49m\u001B[43m,\u001B[49m\u001B[43m \u001B[49m\u001B[43msample_weight\u001B[49m\u001B[43m)\u001B[49m\n\u001B[0;32m    428\u001B[0m \u001B[38;5;28;01melse\u001B[39;00m:\n\u001B[0;32m    429\u001B[0m     y \u001B[38;5;241m=\u001B[39m \u001B[38;5;28mself\u001B[39m\u001B[38;5;241m.\u001B[39m_validate_y(y)\n",
      "File \u001B[1;32mD:\\JIBI\\pycharm笔记相关\\venv\\lib\\site-packages\\sklearn\\ensemble\\_gb.py:1210\u001B[0m, in \u001B[0;36mGradientBoostingClassifier._validate_y\u001B[1;34m(self, y, sample_weight)\u001B[0m\n\u001B[0;32m   1208\u001B[0m n_trim_classes \u001B[38;5;241m=\u001B[39m np\u001B[38;5;241m.\u001B[39mcount_nonzero(np\u001B[38;5;241m.\u001B[39mbincount(y, sample_weight))\n\u001B[0;32m   1209\u001B[0m \u001B[38;5;28;01mif\u001B[39;00m n_trim_classes \u001B[38;5;241m<\u001B[39m \u001B[38;5;241m2\u001B[39m:\n\u001B[1;32m-> 1210\u001B[0m     \u001B[38;5;28;01mraise\u001B[39;00m \u001B[38;5;167;01mValueError\u001B[39;00m(\n\u001B[0;32m   1211\u001B[0m         \u001B[38;5;124m\"\u001B[39m\u001B[38;5;124my contains \u001B[39m\u001B[38;5;132;01m%d\u001B[39;00m\u001B[38;5;124m class after sample_weight \u001B[39m\u001B[38;5;124m\"\u001B[39m\n\u001B[0;32m   1212\u001B[0m         \u001B[38;5;124m\"\u001B[39m\u001B[38;5;124mtrimmed classes with zero weights, while a \u001B[39m\u001B[38;5;124m\"\u001B[39m\n\u001B[0;32m   1213\u001B[0m         \u001B[38;5;124m\"\u001B[39m\u001B[38;5;124mminimum of 2 classes are required.\u001B[39m\u001B[38;5;124m\"\u001B[39m \u001B[38;5;241m%\u001B[39m n_trim_classes\n\u001B[0;32m   1214\u001B[0m     )\n\u001B[0;32m   1215\u001B[0m \u001B[38;5;28mself\u001B[39m\u001B[38;5;241m.\u001B[39m_n_classes \u001B[38;5;241m=\u001B[39m \u001B[38;5;28mlen\u001B[39m(\u001B[38;5;28mself\u001B[39m\u001B[38;5;241m.\u001B[39mclasses_)\n\u001B[0;32m   1216\u001B[0m \u001B[38;5;66;03m# expose n_classes_ attribute\u001B[39;00m\n",
      "\u001B[1;31mValueError\u001B[0m: y contains 1 class after sample_weight trimmed classes with zero weights, while a minimum of 2 classes are required."
     ]
    }
   ],
   "source": [
    "%%time\n",
    "r_df = loop_screen()\n",
    "display(r_df)"
   ],
   "metadata": {
    "collapsed": false,
    "pycharm": {
     "name": "#%%\n"
    }
   }
  },
  {
   "cell_type": "code",
   "execution_count": 63,
   "outputs": [],
   "source": [],
   "metadata": {
    "collapsed": false,
    "pycharm": {
     "name": "#%%\n"
    }
   }
  }
 ],
 "metadata": {
  "kernelspec": {
   "display_name": "Python 3",
   "language": "python",
   "name": "python3"
  },
  "language_info": {
   "codemirror_mode": {
    "name": "ipython",
    "version": 2
   },
   "file_extension": ".py",
   "mimetype": "text/x-python",
   "name": "python",
   "nbconvert_exporter": "python",
   "pygments_lexer": "ipython2",
   "version": "2.7.6"
  }
 },
 "nbformat": 4,
 "nbformat_minor": 0
}